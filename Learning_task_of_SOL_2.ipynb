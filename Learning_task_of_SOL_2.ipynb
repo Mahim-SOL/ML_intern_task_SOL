{
 "cells": [
  {
   "cell_type": "markdown",
   "metadata": {},
   "source": [
    "# Import"
   ]
  },
  {
   "cell_type": "code",
   "execution_count": 117,
   "metadata": {},
   "outputs": [],
   "source": [
    "import numpy as np\n",
    "import pandas as pd\n",
    "from sklearn.decomposition import PCA\n",
    "import matplotlib.pyplot as plt\n",
    "import seaborn as sns\n",
    "from sklearn.linear_model import LogisticRegression\n",
    "from sklearn.ensemble import RandomForestClassifier, GradientBoostingClassifier\n",
    "from sklearn.tree import DecisionTreeClassifier\n",
    "from sklearn.svm import LinearSVC, SVC\n",
    "from sklearn.neighbors import KNeighborsClassifier\n",
    "#from sklearn.preprocessing import StandardScaler\n",
    "from sklearn.model_selection import train_test_split\n",
    "from  sklearn.metrics import accuracy_score,confusion_matrix, classification_report, recall_score, precision_score, f1_score\n",
    "from imblearn.over_sampling import SMOTE\n",
    "from imblearn.under_sampling import TomekLinks\n",
    "from imblearn.combine import SMOTETomek\n",
    "from sklearn.cluster import KMeans\n",
    "#from tensorflow.keras.datasets import mnist\n",
    "from sklearn.model_selection import StratifiedKFold\n",
    "from sklearn.model_selection import cross_val_score\n",
    "from sklearn.ensemble import StackingClassifier\n",
    "import xgboost as xgb\n",
    "from sklearn.metrics import silhouette_score"
   ]
  },
  {
   "cell_type": "code",
   "execution_count": 2,
   "metadata": {},
   "outputs": [],
   "source": [
    "df_abn = pd.read_csv(\"M:/SOL/ML_intern_task/Dataset/ptbdb_abnormal.csv\", header=None)\n",
    "df_n = pd.read_csv(\"M:/SOL/ML_intern_task/Dataset/ptbdb_normal.csv\", header=None)"
   ]
  },
  {
   "cell_type": "code",
   "execution_count": 3,
   "metadata": {},
   "outputs": [],
   "source": [
    "df1 = df_abn\n",
    "df2 = df_n"
   ]
  },
  {
   "cell_type": "markdown",
   "metadata": {},
   "source": [
    "# Perform EDA"
   ]
  },
  {
   "cell_type": "code",
   "execution_count": 5,
   "metadata": {},
   "outputs": [
    {
     "name": "stdout",
     "output_type": "stream",
     "text": [
      "<class 'pandas.core.frame.DataFrame'>\n",
      "RangeIndex: 10506 entries, 0 to 10505\n",
      "Columns: 188 entries, 0 to 187\n",
      "dtypes: float64(188)\n",
      "memory usage: 15.1 MB\n"
     ]
    }
   ],
   "source": [
    "df_abn.info()"
   ]
  },
  {
   "cell_type": "code",
   "execution_count": null,
   "metadata": {},
   "outputs": [],
   "source": [
    "df_abn"
   ]
  },
  {
   "cell_type": "code",
   "execution_count": 5,
   "metadata": {},
   "outputs": [
    {
     "data": {
      "text/html": [
       "<div>\n",
       "<style scoped>\n",
       "    .dataframe tbody tr th:only-of-type {\n",
       "        vertical-align: middle;\n",
       "    }\n",
       "\n",
       "    .dataframe tbody tr th {\n",
       "        vertical-align: top;\n",
       "    }\n",
       "\n",
       "    .dataframe thead th {\n",
       "        text-align: right;\n",
       "    }\n",
       "</style>\n",
       "<table border=\"1\" class=\"dataframe\">\n",
       "  <thead>\n",
       "    <tr style=\"text-align: right;\">\n",
       "      <th></th>\n",
       "      <th>0</th>\n",
       "      <th>1</th>\n",
       "      <th>2</th>\n",
       "      <th>3</th>\n",
       "      <th>4</th>\n",
       "      <th>5</th>\n",
       "      <th>6</th>\n",
       "      <th>7</th>\n",
       "      <th>8</th>\n",
       "      <th>9</th>\n",
       "      <th>...</th>\n",
       "      <th>178</th>\n",
       "      <th>179</th>\n",
       "      <th>180</th>\n",
       "      <th>181</th>\n",
       "      <th>182</th>\n",
       "      <th>183</th>\n",
       "      <th>184</th>\n",
       "      <th>185</th>\n",
       "      <th>186</th>\n",
       "      <th>187</th>\n",
       "    </tr>\n",
       "  </thead>\n",
       "  <tbody>\n",
       "    <tr>\n",
       "      <th>count</th>\n",
       "      <td>10506.000000</td>\n",
       "      <td>10506.000000</td>\n",
       "      <td>10506.000000</td>\n",
       "      <td>10506.000000</td>\n",
       "      <td>10506.000000</td>\n",
       "      <td>10506.000000</td>\n",
       "      <td>10506.000000</td>\n",
       "      <td>10506.000000</td>\n",
       "      <td>10506.000000</td>\n",
       "      <td>10506.000000</td>\n",
       "      <td>...</td>\n",
       "      <td>10506.000000</td>\n",
       "      <td>10506.000000</td>\n",
       "      <td>10506.000000</td>\n",
       "      <td>10506.000000</td>\n",
       "      <td>10506.000000</td>\n",
       "      <td>10506.000000</td>\n",
       "      <td>10506.000000</td>\n",
       "      <td>10506.000000</td>\n",
       "      <td>10506.0</td>\n",
       "      <td>10506.0</td>\n",
       "    </tr>\n",
       "    <tr>\n",
       "      <th>mean</th>\n",
       "      <td>0.975468</td>\n",
       "      <td>0.725582</td>\n",
       "      <td>0.438306</td>\n",
       "      <td>0.290384</td>\n",
       "      <td>0.252897</td>\n",
       "      <td>0.249423</td>\n",
       "      <td>0.245668</td>\n",
       "      <td>0.247160</td>\n",
       "      <td>0.250203</td>\n",
       "      <td>0.252396</td>\n",
       "      <td>...</td>\n",
       "      <td>0.001055</td>\n",
       "      <td>0.001057</td>\n",
       "      <td>0.000744</td>\n",
       "      <td>0.000554</td>\n",
       "      <td>0.000533</td>\n",
       "      <td>0.000313</td>\n",
       "      <td>0.000070</td>\n",
       "      <td>0.000074</td>\n",
       "      <td>0.0</td>\n",
       "      <td>1.0</td>\n",
       "    </tr>\n",
       "    <tr>\n",
       "      <th>std</th>\n",
       "      <td>0.036354</td>\n",
       "      <td>0.199030</td>\n",
       "      <td>0.262699</td>\n",
       "      <td>0.270977</td>\n",
       "      <td>0.237004</td>\n",
       "      <td>0.211751</td>\n",
       "      <td>0.200159</td>\n",
       "      <td>0.194840</td>\n",
       "      <td>0.193160</td>\n",
       "      <td>0.192341</td>\n",
       "      <td>...</td>\n",
       "      <td>0.022312</td>\n",
       "      <td>0.022585</td>\n",
       "      <td>0.017557</td>\n",
       "      <td>0.013781</td>\n",
       "      <td>0.013553</td>\n",
       "      <td>0.010901</td>\n",
       "      <td>0.003754</td>\n",
       "      <td>0.004044</td>\n",
       "      <td>0.0</td>\n",
       "      <td>0.0</td>\n",
       "    </tr>\n",
       "    <tr>\n",
       "      <th>min</th>\n",
       "      <td>0.624227</td>\n",
       "      <td>0.000000</td>\n",
       "      <td>0.000000</td>\n",
       "      <td>0.000000</td>\n",
       "      <td>0.000000</td>\n",
       "      <td>0.000000</td>\n",
       "      <td>0.000000</td>\n",
       "      <td>0.000000</td>\n",
       "      <td>0.000000</td>\n",
       "      <td>0.000000</td>\n",
       "      <td>...</td>\n",
       "      <td>0.000000</td>\n",
       "      <td>0.000000</td>\n",
       "      <td>0.000000</td>\n",
       "      <td>0.000000</td>\n",
       "      <td>0.000000</td>\n",
       "      <td>0.000000</td>\n",
       "      <td>0.000000</td>\n",
       "      <td>0.000000</td>\n",
       "      <td>0.0</td>\n",
       "      <td>1.0</td>\n",
       "    </tr>\n",
       "    <tr>\n",
       "      <th>25%</th>\n",
       "      <td>0.957325</td>\n",
       "      <td>0.586602</td>\n",
       "      <td>0.236455</td>\n",
       "      <td>0.074064</td>\n",
       "      <td>0.088487</td>\n",
       "      <td>0.101422</td>\n",
       "      <td>0.097175</td>\n",
       "      <td>0.096331</td>\n",
       "      <td>0.098527</td>\n",
       "      <td>0.098041</td>\n",
       "      <td>...</td>\n",
       "      <td>0.000000</td>\n",
       "      <td>0.000000</td>\n",
       "      <td>0.000000</td>\n",
       "      <td>0.000000</td>\n",
       "      <td>0.000000</td>\n",
       "      <td>0.000000</td>\n",
       "      <td>0.000000</td>\n",
       "      <td>0.000000</td>\n",
       "      <td>0.0</td>\n",
       "      <td>1.0</td>\n",
       "    </tr>\n",
       "    <tr>\n",
       "      <th>50%</th>\n",
       "      <td>1.000000</td>\n",
       "      <td>0.745646</td>\n",
       "      <td>0.404297</td>\n",
       "      <td>0.212845</td>\n",
       "      <td>0.173046</td>\n",
       "      <td>0.180927</td>\n",
       "      <td>0.182782</td>\n",
       "      <td>0.191793</td>\n",
       "      <td>0.197088</td>\n",
       "      <td>0.200919</td>\n",
       "      <td>...</td>\n",
       "      <td>0.000000</td>\n",
       "      <td>0.000000</td>\n",
       "      <td>0.000000</td>\n",
       "      <td>0.000000</td>\n",
       "      <td>0.000000</td>\n",
       "      <td>0.000000</td>\n",
       "      <td>0.000000</td>\n",
       "      <td>0.000000</td>\n",
       "      <td>0.0</td>\n",
       "      <td>1.0</td>\n",
       "    </tr>\n",
       "    <tr>\n",
       "      <th>75%</th>\n",
       "      <td>1.000000</td>\n",
       "      <td>0.890043</td>\n",
       "      <td>0.620889</td>\n",
       "      <td>0.427811</td>\n",
       "      <td>0.343089</td>\n",
       "      <td>0.327582</td>\n",
       "      <td>0.328089</td>\n",
       "      <td>0.347707</td>\n",
       "      <td>0.359378</td>\n",
       "      <td>0.370106</td>\n",
       "      <td>...</td>\n",
       "      <td>0.000000</td>\n",
       "      <td>0.000000</td>\n",
       "      <td>0.000000</td>\n",
       "      <td>0.000000</td>\n",
       "      <td>0.000000</td>\n",
       "      <td>0.000000</td>\n",
       "      <td>0.000000</td>\n",
       "      <td>0.000000</td>\n",
       "      <td>0.0</td>\n",
       "      <td>1.0</td>\n",
       "    </tr>\n",
       "    <tr>\n",
       "      <th>max</th>\n",
       "      <td>1.000000</td>\n",
       "      <td>1.000000</td>\n",
       "      <td>1.000000</td>\n",
       "      <td>1.000000</td>\n",
       "      <td>1.000000</td>\n",
       "      <td>1.000000</td>\n",
       "      <td>1.000000</td>\n",
       "      <td>0.985523</td>\n",
       "      <td>0.993213</td>\n",
       "      <td>0.997738</td>\n",
       "      <td>...</td>\n",
       "      <td>0.791899</td>\n",
       "      <td>0.773743</td>\n",
       "      <td>0.789804</td>\n",
       "      <td>0.628177</td>\n",
       "      <td>0.602033</td>\n",
       "      <td>0.644880</td>\n",
       "      <td>0.265025</td>\n",
       "      <td>0.279310</td>\n",
       "      <td>0.0</td>\n",
       "      <td>1.0</td>\n",
       "    </tr>\n",
       "  </tbody>\n",
       "</table>\n",
       "<p>8 rows × 188 columns</p>\n",
       "</div>"
      ],
      "text/plain": [
       "                0             1             2             3             4    \\\n",
       "count  10506.000000  10506.000000  10506.000000  10506.000000  10506.000000   \n",
       "mean       0.975468      0.725582      0.438306      0.290384      0.252897   \n",
       "std        0.036354      0.199030      0.262699      0.270977      0.237004   \n",
       "min        0.624227      0.000000      0.000000      0.000000      0.000000   \n",
       "25%        0.957325      0.586602      0.236455      0.074064      0.088487   \n",
       "50%        1.000000      0.745646      0.404297      0.212845      0.173046   \n",
       "75%        1.000000      0.890043      0.620889      0.427811      0.343089   \n",
       "max        1.000000      1.000000      1.000000      1.000000      1.000000   \n",
       "\n",
       "                5             6             7             8             9    \\\n",
       "count  10506.000000  10506.000000  10506.000000  10506.000000  10506.000000   \n",
       "mean       0.249423      0.245668      0.247160      0.250203      0.252396   \n",
       "std        0.211751      0.200159      0.194840      0.193160      0.192341   \n",
       "min        0.000000      0.000000      0.000000      0.000000      0.000000   \n",
       "25%        0.101422      0.097175      0.096331      0.098527      0.098041   \n",
       "50%        0.180927      0.182782      0.191793      0.197088      0.200919   \n",
       "75%        0.327582      0.328089      0.347707      0.359378      0.370106   \n",
       "max        1.000000      1.000000      0.985523      0.993213      0.997738   \n",
       "\n",
       "       ...           178           179           180           181  \\\n",
       "count  ...  10506.000000  10506.000000  10506.000000  10506.000000   \n",
       "mean   ...      0.001055      0.001057      0.000744      0.000554   \n",
       "std    ...      0.022312      0.022585      0.017557      0.013781   \n",
       "min    ...      0.000000      0.000000      0.000000      0.000000   \n",
       "25%    ...      0.000000      0.000000      0.000000      0.000000   \n",
       "50%    ...      0.000000      0.000000      0.000000      0.000000   \n",
       "75%    ...      0.000000      0.000000      0.000000      0.000000   \n",
       "max    ...      0.791899      0.773743      0.789804      0.628177   \n",
       "\n",
       "                182           183           184           185      186  \\\n",
       "count  10506.000000  10506.000000  10506.000000  10506.000000  10506.0   \n",
       "mean       0.000533      0.000313      0.000070      0.000074      0.0   \n",
       "std        0.013553      0.010901      0.003754      0.004044      0.0   \n",
       "min        0.000000      0.000000      0.000000      0.000000      0.0   \n",
       "25%        0.000000      0.000000      0.000000      0.000000      0.0   \n",
       "50%        0.000000      0.000000      0.000000      0.000000      0.0   \n",
       "75%        0.000000      0.000000      0.000000      0.000000      0.0   \n",
       "max        0.602033      0.644880      0.265025      0.279310      0.0   \n",
       "\n",
       "           187  \n",
       "count  10506.0  \n",
       "mean       1.0  \n",
       "std        0.0  \n",
       "min        1.0  \n",
       "25%        1.0  \n",
       "50%        1.0  \n",
       "75%        1.0  \n",
       "max        1.0  \n",
       "\n",
       "[8 rows x 188 columns]"
      ]
     },
     "execution_count": 5,
     "metadata": {},
     "output_type": "execute_result"
    }
   ],
   "source": [
    "df_abn.describe()"
   ]
  },
  {
   "cell_type": "code",
   "execution_count": 6,
   "metadata": {},
   "outputs": [
    {
     "name": "stderr",
     "output_type": "stream",
     "text": [
      "No artists with labels found to put in legend.  Note that artists whose label start with an underscore are ignored when legend() is called with no argument.\n"
     ]
    },
    {
     "data": {
      "image/png": "[encoded data removed]",
      "text/plain": [
       "<Figure size 640x480 with 1 Axes>"
      ]
     },
     "metadata": {},
     "output_type": "display_data"
    }
   ],
   "source": [
    "df_abn.isnull().sum().plot().legend().set_visible(False)"
   ]
  },
  {
   "cell_type": "code",
   "execution_count": null,
   "metadata": {},
   "outputs": [],
   "source": [
    "df_n\n"
   ]
  },
  {
   "cell_type": "code",
   "execution_count": 11,
   "metadata": {},
   "outputs": [
    {
     "name": "stdout",
     "output_type": "stream",
     "text": [
      "<class 'pandas.core.frame.DataFrame'>\n",
      "RangeIndex: 4046 entries, 0 to 4045\n",
      "Columns: 188 entries, 0 to 187\n",
      "dtypes: float64(188)\n",
      "memory usage: 5.8 MB\n"
     ]
    }
   ],
   "source": [
    "df_n.info()"
   ]
  },
  {
   "cell_type": "code",
   "execution_count": 7,
   "metadata": {},
   "outputs": [
    {
     "data": {
      "text/html": [
       "<div>\n",
       "<style scoped>\n",
       "    .dataframe tbody tr th:only-of-type {\n",
       "        vertical-align: middle;\n",
       "    }\n",
       "\n",
       "    .dataframe tbody tr th {\n",
       "        vertical-align: top;\n",
       "    }\n",
       "\n",
       "    .dataframe thead th {\n",
       "        text-align: right;\n",
       "    }\n",
       "</style>\n",
       "<table border=\"1\" class=\"dataframe\">\n",
       "  <thead>\n",
       "    <tr style=\"text-align: right;\">\n",
       "      <th></th>\n",
       "      <th>0</th>\n",
       "      <th>1</th>\n",
       "      <th>2</th>\n",
       "      <th>3</th>\n",
       "      <th>4</th>\n",
       "      <th>5</th>\n",
       "      <th>6</th>\n",
       "      <th>7</th>\n",
       "      <th>8</th>\n",
       "      <th>9</th>\n",
       "      <th>...</th>\n",
       "      <th>178</th>\n",
       "      <th>179</th>\n",
       "      <th>180</th>\n",
       "      <th>181</th>\n",
       "      <th>182</th>\n",
       "      <th>183</th>\n",
       "      <th>184</th>\n",
       "      <th>185</th>\n",
       "      <th>186</th>\n",
       "      <th>187</th>\n",
       "    </tr>\n",
       "  </thead>\n",
       "  <tbody>\n",
       "    <tr>\n",
       "      <th>count</th>\n",
       "      <td>4046.000000</td>\n",
       "      <td>4046.000000</td>\n",
       "      <td>4046.000000</td>\n",
       "      <td>4046.000000</td>\n",
       "      <td>4046.000000</td>\n",
       "      <td>4046.000000</td>\n",
       "      <td>4046.000000</td>\n",
       "      <td>4046.000000</td>\n",
       "      <td>4046.000000</td>\n",
       "      <td>4046.000000</td>\n",
       "      <td>...</td>\n",
       "      <td>4046.000000</td>\n",
       "      <td>4046.000000</td>\n",
       "      <td>4046.000000</td>\n",
       "      <td>4046.000000</td>\n",
       "      <td>4046.000000</td>\n",
       "      <td>4046.000000</td>\n",
       "      <td>4046.000000</td>\n",
       "      <td>4046.000000</td>\n",
       "      <td>4046.0</td>\n",
       "      <td>4046.0</td>\n",
       "    </tr>\n",
       "    <tr>\n",
       "      <th>mean</th>\n",
       "      <td>0.979670</td>\n",
       "      <td>0.711486</td>\n",
       "      <td>0.311677</td>\n",
       "      <td>0.119575</td>\n",
       "      <td>0.088608</td>\n",
       "      <td>0.130843</td>\n",
       "      <td>0.159653</td>\n",
       "      <td>0.165608</td>\n",
       "      <td>0.168005</td>\n",
       "      <td>0.170783</td>\n",
       "      <td>...</td>\n",
       "      <td>0.001540</td>\n",
       "      <td>0.001332</td>\n",
       "      <td>0.001304</td>\n",
       "      <td>0.001220</td>\n",
       "      <td>0.000991</td>\n",
       "      <td>0.000894</td>\n",
       "      <td>0.000454</td>\n",
       "      <td>0.000474</td>\n",
       "      <td>0.0</td>\n",
       "      <td>0.0</td>\n",
       "    </tr>\n",
       "    <tr>\n",
       "      <th>std</th>\n",
       "      <td>0.029061</td>\n",
       "      <td>0.186376</td>\n",
       "      <td>0.183457</td>\n",
       "      <td>0.110457</td>\n",
       "      <td>0.075760</td>\n",
       "      <td>0.081104</td>\n",
       "      <td>0.090131</td>\n",
       "      <td>0.096094</td>\n",
       "      <td>0.102506</td>\n",
       "      <td>0.106190</td>\n",
       "      <td>...</td>\n",
       "      <td>0.018664</td>\n",
       "      <td>0.016234</td>\n",
       "      <td>0.016668</td>\n",
       "      <td>0.016658</td>\n",
       "      <td>0.015204</td>\n",
       "      <td>0.015311</td>\n",
       "      <td>0.010834</td>\n",
       "      <td>0.011202</td>\n",
       "      <td>0.0</td>\n",
       "      <td>0.0</td>\n",
       "    </tr>\n",
       "    <tr>\n",
       "      <th>min</th>\n",
       "      <td>0.782178</td>\n",
       "      <td>0.121784</td>\n",
       "      <td>0.000000</td>\n",
       "      <td>0.000000</td>\n",
       "      <td>0.000000</td>\n",
       "      <td>0.000000</td>\n",
       "      <td>0.000000</td>\n",
       "      <td>0.000000</td>\n",
       "      <td>0.000000</td>\n",
       "      <td>0.000000</td>\n",
       "      <td>...</td>\n",
       "      <td>0.000000</td>\n",
       "      <td>0.000000</td>\n",
       "      <td>0.000000</td>\n",
       "      <td>0.000000</td>\n",
       "      <td>0.000000</td>\n",
       "      <td>0.000000</td>\n",
       "      <td>0.000000</td>\n",
       "      <td>0.000000</td>\n",
       "      <td>0.0</td>\n",
       "      <td>0.0</td>\n",
       "    </tr>\n",
       "    <tr>\n",
       "      <th>25%</th>\n",
       "      <td>0.964468</td>\n",
       "      <td>0.580160</td>\n",
       "      <td>0.164112</td>\n",
       "      <td>0.028731</td>\n",
       "      <td>0.027735</td>\n",
       "      <td>0.070776</td>\n",
       "      <td>0.094656</td>\n",
       "      <td>0.098848</td>\n",
       "      <td>0.095594</td>\n",
       "      <td>0.094988</td>\n",
       "      <td>...</td>\n",
       "      <td>0.000000</td>\n",
       "      <td>0.000000</td>\n",
       "      <td>0.000000</td>\n",
       "      <td>0.000000</td>\n",
       "      <td>0.000000</td>\n",
       "      <td>0.000000</td>\n",
       "      <td>0.000000</td>\n",
       "      <td>0.000000</td>\n",
       "      <td>0.0</td>\n",
       "      <td>0.0</td>\n",
       "    </tr>\n",
       "    <tr>\n",
       "      <th>50%</th>\n",
       "      <td>1.000000</td>\n",
       "      <td>0.726449</td>\n",
       "      <td>0.303266</td>\n",
       "      <td>0.092655</td>\n",
       "      <td>0.079476</td>\n",
       "      <td>0.121144</td>\n",
       "      <td>0.134312</td>\n",
       "      <td>0.142771</td>\n",
       "      <td>0.143002</td>\n",
       "      <td>0.145068</td>\n",
       "      <td>...</td>\n",
       "      <td>0.000000</td>\n",
       "      <td>0.000000</td>\n",
       "      <td>0.000000</td>\n",
       "      <td>0.000000</td>\n",
       "      <td>0.000000</td>\n",
       "      <td>0.000000</td>\n",
       "      <td>0.000000</td>\n",
       "      <td>0.000000</td>\n",
       "      <td>0.0</td>\n",
       "      <td>0.0</td>\n",
       "    </tr>\n",
       "    <tr>\n",
       "      <th>75%</th>\n",
       "      <td>1.000000</td>\n",
       "      <td>0.863699</td>\n",
       "      <td>0.436091</td>\n",
       "      <td>0.187527</td>\n",
       "      <td>0.134861</td>\n",
       "      <td>0.183746</td>\n",
       "      <td>0.216203</td>\n",
       "      <td>0.217895</td>\n",
       "      <td>0.220572</td>\n",
       "      <td>0.223053</td>\n",
       "      <td>...</td>\n",
       "      <td>0.000000</td>\n",
       "      <td>0.000000</td>\n",
       "      <td>0.000000</td>\n",
       "      <td>0.000000</td>\n",
       "      <td>0.000000</td>\n",
       "      <td>0.000000</td>\n",
       "      <td>0.000000</td>\n",
       "      <td>0.000000</td>\n",
       "      <td>0.0</td>\n",
       "      <td>0.0</td>\n",
       "    </tr>\n",
       "    <tr>\n",
       "      <th>max</th>\n",
       "      <td>1.000000</td>\n",
       "      <td>1.000000</td>\n",
       "      <td>0.985955</td>\n",
       "      <td>0.910798</td>\n",
       "      <td>0.846591</td>\n",
       "      <td>0.770205</td>\n",
       "      <td>0.754524</td>\n",
       "      <td>0.749095</td>\n",
       "      <td>0.729192</td>\n",
       "      <td>0.700844</td>\n",
       "      <td>...</td>\n",
       "      <td>0.415879</td>\n",
       "      <td>0.361283</td>\n",
       "      <td>0.383522</td>\n",
       "      <td>0.407025</td>\n",
       "      <td>0.446281</td>\n",
       "      <td>0.483471</td>\n",
       "      <td>0.371502</td>\n",
       "      <td>0.376668</td>\n",
       "      <td>0.0</td>\n",
       "      <td>0.0</td>\n",
       "    </tr>\n",
       "  </tbody>\n",
       "</table>\n",
       "<p>8 rows × 188 columns</p>\n",
       "</div>"
      ],
      "text/plain": [
       "               0            1            2            3            4    \\\n",
       "count  4046.000000  4046.000000  4046.000000  4046.000000  4046.000000   \n",
       "mean      0.979670     0.711486     0.311677     0.119575     0.088608   \n",
       "std       0.029061     0.186376     0.183457     0.110457     0.075760   \n",
       "min       0.782178     0.121784     0.000000     0.000000     0.000000   \n",
       "25%       0.964468     0.580160     0.164112     0.028731     0.027735   \n",
       "50%       1.000000     0.726449     0.303266     0.092655     0.079476   \n",
       "75%       1.000000     0.863699     0.436091     0.187527     0.134861   \n",
       "max       1.000000     1.000000     0.985955     0.910798     0.846591   \n",
       "\n",
       "               5            6            7            8            9    ...  \\\n",
       "count  4046.000000  4046.000000  4046.000000  4046.000000  4046.000000  ...   \n",
       "mean      0.130843     0.159653     0.165608     0.168005     0.170783  ...   \n",
       "std       0.081104     0.090131     0.096094     0.102506     0.106190  ...   \n",
       "min       0.000000     0.000000     0.000000     0.000000     0.000000  ...   \n",
       "25%       0.070776     0.094656     0.098848     0.095594     0.094988  ...   \n",
       "50%       0.121144     0.134312     0.142771     0.143002     0.145068  ...   \n",
       "75%       0.183746     0.216203     0.217895     0.220572     0.223053  ...   \n",
       "max       0.770205     0.754524     0.749095     0.729192     0.700844  ...   \n",
       "\n",
       "               178          179          180          181          182  \\\n",
       "count  4046.000000  4046.000000  4046.000000  4046.000000  4046.000000   \n",
       "mean      0.001540     0.001332     0.001304     0.001220     0.000991   \n",
       "std       0.018664     0.016234     0.016668     0.016658     0.015204   \n",
       "min       0.000000     0.000000     0.000000     0.000000     0.000000   \n",
       "25%       0.000000     0.000000     0.000000     0.000000     0.000000   \n",
       "50%       0.000000     0.000000     0.000000     0.000000     0.000000   \n",
       "75%       0.000000     0.000000     0.000000     0.000000     0.000000   \n",
       "max       0.415879     0.361283     0.383522     0.407025     0.446281   \n",
       "\n",
       "               183          184          185     186     187  \n",
       "count  4046.000000  4046.000000  4046.000000  4046.0  4046.0  \n",
       "mean      0.000894     0.000454     0.000474     0.0     0.0  \n",
       "std       0.015311     0.010834     0.011202     0.0     0.0  \n",
       "min       0.000000     0.000000     0.000000     0.0     0.0  \n",
       "25%       0.000000     0.000000     0.000000     0.0     0.0  \n",
       "50%       0.000000     0.000000     0.000000     0.0     0.0  \n",
       "75%       0.000000     0.000000     0.000000     0.0     0.0  \n",
       "max       0.483471     0.371502     0.376668     0.0     0.0  \n",
       "\n",
       "[8 rows x 188 columns]"
      ]
     },
     "execution_count": 7,
     "metadata": {},
     "output_type": "execute_result"
    }
   ],
   "source": [
    "df_n.describe()"
   ]
  },
  {
   "cell_type": "code",
   "execution_count": 8,
   "metadata": {},
   "outputs": [
    {
     "name": "stderr",
     "output_type": "stream",
     "text": [
      "No artists with labels found to put in legend.  Note that artists whose label start with an underscore are ignored when legend() is called with no argument.\n"
     ]
    },
    {
     "data": {
      "image/png": "[encoded data removed]",
      "text/plain": [
       "<Figure size 640x480 with 1 Axes>"
      ]
     },
     "metadata": {},
     "output_type": "display_data"
    }
   ],
   "source": [
    "df_n.isnull().sum().plot().legend().set_visible(False)"
   ]
  },
  {
   "cell_type": "code",
   "execution_count": 9,
   "metadata": {},
   "outputs": [
    {
     "data": {
      "text/html": [
       "<div>\n",
       "<style scoped>\n",
       "    .dataframe tbody tr th:only-of-type {\n",
       "        vertical-align: middle;\n",
       "    }\n",
       "\n",
       "    .dataframe tbody tr th {\n",
       "        vertical-align: top;\n",
       "    }\n",
       "\n",
       "    .dataframe thead th {\n",
       "        text-align: right;\n",
       "    }\n",
       "</style>\n",
       "<table border=\"1\" class=\"dataframe\">\n",
       "  <thead>\n",
       "    <tr style=\"text-align: right;\">\n",
       "      <th></th>\n",
       "      <th>0</th>\n",
       "      <th>1</th>\n",
       "      <th>2</th>\n",
       "      <th>3</th>\n",
       "      <th>4</th>\n",
       "      <th>5</th>\n",
       "      <th>6</th>\n",
       "      <th>7</th>\n",
       "      <th>8</th>\n",
       "      <th>9</th>\n",
       "      <th>...</th>\n",
       "      <th>178</th>\n",
       "      <th>179</th>\n",
       "      <th>180</th>\n",
       "      <th>181</th>\n",
       "      <th>182</th>\n",
       "      <th>183</th>\n",
       "      <th>184</th>\n",
       "      <th>185</th>\n",
       "      <th>186</th>\n",
       "      <th>187</th>\n",
       "    </tr>\n",
       "  </thead>\n",
       "  <tbody>\n",
       "    <tr>\n",
       "      <th>0</th>\n",
       "      <td>0.932233</td>\n",
       "      <td>0.869679</td>\n",
       "      <td>0.886186</td>\n",
       "      <td>0.929626</td>\n",
       "      <td>0.908775</td>\n",
       "      <td>0.933970</td>\n",
       "      <td>0.801043</td>\n",
       "      <td>0.749783</td>\n",
       "      <td>0.687229</td>\n",
       "      <td>0.635100</td>\n",
       "      <td>...</td>\n",
       "      <td>0.0</td>\n",
       "      <td>0.0</td>\n",
       "      <td>0.0</td>\n",
       "      <td>0.0</td>\n",
       "      <td>0.0</td>\n",
       "      <td>0.0</td>\n",
       "      <td>0.0</td>\n",
       "      <td>0.0</td>\n",
       "      <td>0.0</td>\n",
       "      <td>1.0</td>\n",
       "    </tr>\n",
       "    <tr>\n",
       "      <th>1</th>\n",
       "      <td>1.000000</td>\n",
       "      <td>0.606941</td>\n",
       "      <td>0.384181</td>\n",
       "      <td>0.254237</td>\n",
       "      <td>0.223567</td>\n",
       "      <td>0.276836</td>\n",
       "      <td>0.253430</td>\n",
       "      <td>0.184826</td>\n",
       "      <td>0.153349</td>\n",
       "      <td>0.121872</td>\n",
       "      <td>...</td>\n",
       "      <td>0.0</td>\n",
       "      <td>0.0</td>\n",
       "      <td>0.0</td>\n",
       "      <td>0.0</td>\n",
       "      <td>0.0</td>\n",
       "      <td>0.0</td>\n",
       "      <td>0.0</td>\n",
       "      <td>0.0</td>\n",
       "      <td>0.0</td>\n",
       "      <td>1.0</td>\n",
       "    </tr>\n",
       "    <tr>\n",
       "      <th>2</th>\n",
       "      <td>1.000000</td>\n",
       "      <td>0.951613</td>\n",
       "      <td>0.923963</td>\n",
       "      <td>0.853303</td>\n",
       "      <td>0.791859</td>\n",
       "      <td>0.734255</td>\n",
       "      <td>0.672043</td>\n",
       "      <td>0.685100</td>\n",
       "      <td>0.670507</td>\n",
       "      <td>0.667435</td>\n",
       "      <td>...</td>\n",
       "      <td>0.0</td>\n",
       "      <td>0.0</td>\n",
       "      <td>0.0</td>\n",
       "      <td>0.0</td>\n",
       "      <td>0.0</td>\n",
       "      <td>0.0</td>\n",
       "      <td>0.0</td>\n",
       "      <td>0.0</td>\n",
       "      <td>0.0</td>\n",
       "      <td>1.0</td>\n",
       "    </tr>\n",
       "    <tr>\n",
       "      <th>3</th>\n",
       "      <td>0.977819</td>\n",
       "      <td>0.899261</td>\n",
       "      <td>0.230129</td>\n",
       "      <td>0.032348</td>\n",
       "      <td>0.142329</td>\n",
       "      <td>0.223660</td>\n",
       "      <td>0.328096</td>\n",
       "      <td>0.367837</td>\n",
       "      <td>0.381701</td>\n",
       "      <td>0.389094</td>\n",
       "      <td>...</td>\n",
       "      <td>0.0</td>\n",
       "      <td>0.0</td>\n",
       "      <td>0.0</td>\n",
       "      <td>0.0</td>\n",
       "      <td>0.0</td>\n",
       "      <td>0.0</td>\n",
       "      <td>0.0</td>\n",
       "      <td>0.0</td>\n",
       "      <td>0.0</td>\n",
       "      <td>1.0</td>\n",
       "    </tr>\n",
       "    <tr>\n",
       "      <th>4</th>\n",
       "      <td>0.935618</td>\n",
       "      <td>0.801661</td>\n",
       "      <td>0.805815</td>\n",
       "      <td>1.000000</td>\n",
       "      <td>0.722741</td>\n",
       "      <td>0.480789</td>\n",
       "      <td>0.454829</td>\n",
       "      <td>0.319834</td>\n",
       "      <td>0.266874</td>\n",
       "      <td>0.308411</td>\n",
       "      <td>...</td>\n",
       "      <td>0.0</td>\n",
       "      <td>0.0</td>\n",
       "      <td>0.0</td>\n",
       "      <td>0.0</td>\n",
       "      <td>0.0</td>\n",
       "      <td>0.0</td>\n",
       "      <td>0.0</td>\n",
       "      <td>0.0</td>\n",
       "      <td>0.0</td>\n",
       "      <td>1.0</td>\n",
       "    </tr>\n",
       "    <tr>\n",
       "      <th>...</th>\n",
       "      <td>...</td>\n",
       "      <td>...</td>\n",
       "      <td>...</td>\n",
       "      <td>...</td>\n",
       "      <td>...</td>\n",
       "      <td>...</td>\n",
       "      <td>...</td>\n",
       "      <td>...</td>\n",
       "      <td>...</td>\n",
       "      <td>...</td>\n",
       "      <td>...</td>\n",
       "      <td>...</td>\n",
       "      <td>...</td>\n",
       "      <td>...</td>\n",
       "      <td>...</td>\n",
       "      <td>...</td>\n",
       "      <td>...</td>\n",
       "      <td>...</td>\n",
       "      <td>...</td>\n",
       "      <td>...</td>\n",
       "      <td>...</td>\n",
       "    </tr>\n",
       "    <tr>\n",
       "      <th>4041</th>\n",
       "      <td>1.000000</td>\n",
       "      <td>0.929586</td>\n",
       "      <td>0.503550</td>\n",
       "      <td>0.293491</td>\n",
       "      <td>0.169822</td>\n",
       "      <td>0.159763</td>\n",
       "      <td>0.130769</td>\n",
       "      <td>0.125444</td>\n",
       "      <td>0.137278</td>\n",
       "      <td>0.111243</td>\n",
       "      <td>...</td>\n",
       "      <td>0.0</td>\n",
       "      <td>0.0</td>\n",
       "      <td>0.0</td>\n",
       "      <td>0.0</td>\n",
       "      <td>0.0</td>\n",
       "      <td>0.0</td>\n",
       "      <td>0.0</td>\n",
       "      <td>0.0</td>\n",
       "      <td>0.0</td>\n",
       "      <td>0.0</td>\n",
       "    </tr>\n",
       "    <tr>\n",
       "      <th>4042</th>\n",
       "      <td>1.000000</td>\n",
       "      <td>0.637579</td>\n",
       "      <td>0.154837</td>\n",
       "      <td>0.061983</td>\n",
       "      <td>0.088965</td>\n",
       "      <td>0.083374</td>\n",
       "      <td>0.065143</td>\n",
       "      <td>0.057365</td>\n",
       "      <td>0.060039</td>\n",
       "      <td>0.060039</td>\n",
       "      <td>...</td>\n",
       "      <td>0.0</td>\n",
       "      <td>0.0</td>\n",
       "      <td>0.0</td>\n",
       "      <td>0.0</td>\n",
       "      <td>0.0</td>\n",
       "      <td>0.0</td>\n",
       "      <td>0.0</td>\n",
       "      <td>0.0</td>\n",
       "      <td>0.0</td>\n",
       "      <td>0.0</td>\n",
       "    </tr>\n",
       "    <tr>\n",
       "      <th>4043</th>\n",
       "      <td>1.000000</td>\n",
       "      <td>0.872574</td>\n",
       "      <td>0.465071</td>\n",
       "      <td>0.232212</td>\n",
       "      <td>0.126132</td>\n",
       "      <td>0.155886</td>\n",
       "      <td>0.174644</td>\n",
       "      <td>0.190168</td>\n",
       "      <td>0.203752</td>\n",
       "      <td>0.168823</td>\n",
       "      <td>...</td>\n",
       "      <td>0.0</td>\n",
       "      <td>0.0</td>\n",
       "      <td>0.0</td>\n",
       "      <td>0.0</td>\n",
       "      <td>0.0</td>\n",
       "      <td>0.0</td>\n",
       "      <td>0.0</td>\n",
       "      <td>0.0</td>\n",
       "      <td>0.0</td>\n",
       "      <td>0.0</td>\n",
       "    </tr>\n",
       "    <tr>\n",
       "      <th>4044</th>\n",
       "      <td>0.915983</td>\n",
       "      <td>0.529373</td>\n",
       "      <td>0.288406</td>\n",
       "      <td>0.144536</td>\n",
       "      <td>0.171802</td>\n",
       "      <td>0.180669</td>\n",
       "      <td>0.177566</td>\n",
       "      <td>0.176458</td>\n",
       "      <td>0.178896</td>\n",
       "      <td>0.180448</td>\n",
       "      <td>...</td>\n",
       "      <td>0.0</td>\n",
       "      <td>0.0</td>\n",
       "      <td>0.0</td>\n",
       "      <td>0.0</td>\n",
       "      <td>0.0</td>\n",
       "      <td>0.0</td>\n",
       "      <td>0.0</td>\n",
       "      <td>0.0</td>\n",
       "      <td>0.0</td>\n",
       "      <td>0.0</td>\n",
       "    </tr>\n",
       "    <tr>\n",
       "      <th>4045</th>\n",
       "      <td>1.000000</td>\n",
       "      <td>0.838643</td>\n",
       "      <td>0.390567</td>\n",
       "      <td>0.191146</td>\n",
       "      <td>0.033513</td>\n",
       "      <td>0.055854</td>\n",
       "      <td>0.129086</td>\n",
       "      <td>0.147290</td>\n",
       "      <td>0.155151</td>\n",
       "      <td>0.165494</td>\n",
       "      <td>...</td>\n",
       "      <td>0.0</td>\n",
       "      <td>0.0</td>\n",
       "      <td>0.0</td>\n",
       "      <td>0.0</td>\n",
       "      <td>0.0</td>\n",
       "      <td>0.0</td>\n",
       "      <td>0.0</td>\n",
       "      <td>0.0</td>\n",
       "      <td>0.0</td>\n",
       "      <td>0.0</td>\n",
       "    </tr>\n",
       "  </tbody>\n",
       "</table>\n",
       "<p>14552 rows × 188 columns</p>\n",
       "</div>"
      ],
      "text/plain": [
       "           0         1         2         3         4         5         6    \\\n",
       "0     0.932233  0.869679  0.886186  0.929626  0.908775  0.933970  0.801043   \n",
       "1     1.000000  0.606941  0.384181  0.254237  0.223567  0.276836  0.253430   \n",
       "2     1.000000  0.951613  0.923963  0.853303  0.791859  0.734255  0.672043   \n",
       "3     0.977819  0.899261  0.230129  0.032348  0.142329  0.223660  0.328096   \n",
       "4     0.935618  0.801661  0.805815  1.000000  0.722741  0.480789  0.454829   \n",
       "...        ...       ...       ...       ...       ...       ...       ...   \n",
       "4041  1.000000  0.929586  0.503550  0.293491  0.169822  0.159763  0.130769   \n",
       "4042  1.000000  0.637579  0.154837  0.061983  0.088965  0.083374  0.065143   \n",
       "4043  1.000000  0.872574  0.465071  0.232212  0.126132  0.155886  0.174644   \n",
       "4044  0.915983  0.529373  0.288406  0.144536  0.171802  0.180669  0.177566   \n",
       "4045  1.000000  0.838643  0.390567  0.191146  0.033513  0.055854  0.129086   \n",
       "\n",
       "           7         8         9    ...  178  179  180  181  182  183  184  \\\n",
       "0     0.749783  0.687229  0.635100  ...  0.0  0.0  0.0  0.0  0.0  0.0  0.0   \n",
       "1     0.184826  0.153349  0.121872  ...  0.0  0.0  0.0  0.0  0.0  0.0  0.0   \n",
       "2     0.685100  0.670507  0.667435  ...  0.0  0.0  0.0  0.0  0.0  0.0  0.0   \n",
       "3     0.367837  0.381701  0.389094  ...  0.0  0.0  0.0  0.0  0.0  0.0  0.0   \n",
       "4     0.319834  0.266874  0.308411  ...  0.0  0.0  0.0  0.0  0.0  0.0  0.0   \n",
       "...        ...       ...       ...  ...  ...  ...  ...  ...  ...  ...  ...   \n",
       "4041  0.125444  0.137278  0.111243  ...  0.0  0.0  0.0  0.0  0.0  0.0  0.0   \n",
       "4042  0.057365  0.060039  0.060039  ...  0.0  0.0  0.0  0.0  0.0  0.0  0.0   \n",
       "4043  0.190168  0.203752  0.168823  ...  0.0  0.0  0.0  0.0  0.0  0.0  0.0   \n",
       "4044  0.176458  0.178896  0.180448  ...  0.0  0.0  0.0  0.0  0.0  0.0  0.0   \n",
       "4045  0.147290  0.155151  0.165494  ...  0.0  0.0  0.0  0.0  0.0  0.0  0.0   \n",
       "\n",
       "      185  186  187  \n",
       "0     0.0  0.0  1.0  \n",
       "1     0.0  0.0  1.0  \n",
       "2     0.0  0.0  1.0  \n",
       "3     0.0  0.0  1.0  \n",
       "4     0.0  0.0  1.0  \n",
       "...   ...  ...  ...  \n",
       "4041  0.0  0.0  0.0  \n",
       "4042  0.0  0.0  0.0  \n",
       "4043  0.0  0.0  0.0  \n",
       "4044  0.0  0.0  0.0  \n",
       "4045  0.0  0.0  0.0  \n",
       "\n",
       "[14552 rows x 188 columns]"
      ]
     },
     "execution_count": 9,
     "metadata": {},
     "output_type": "execute_result"
    }
   ],
   "source": [
    "df_abn_n = pd.concat([df_abn, df_n], axis=0)\n",
    "df_abn_n"
   ]
  },
  {
   "cell_type": "code",
   "execution_count": 15,
   "metadata": {},
   "outputs": [],
   "source": [
    "df_abn_n = df_abn_n.sample(frac=1).reset_index(drop=True)"
   ]
  },
  {
   "cell_type": "code",
   "execution_count": 18,
   "metadata": {},
   "outputs": [
    {
     "data": {
      "text/html": [
       "<div>\n",
       "<style scoped>\n",
       "    .dataframe tbody tr th:only-of-type {\n",
       "        vertical-align: middle;\n",
       "    }\n",
       "\n",
       "    .dataframe tbody tr th {\n",
       "        vertical-align: top;\n",
       "    }\n",
       "\n",
       "    .dataframe thead th {\n",
       "        text-align: right;\n",
       "    }\n",
       "</style>\n",
       "<table border=\"1\" class=\"dataframe\">\n",
       "  <thead>\n",
       "    <tr style=\"text-align: right;\">\n",
       "      <th></th>\n",
       "      <th>0</th>\n",
       "      <th>1</th>\n",
       "      <th>2</th>\n",
       "      <th>3</th>\n",
       "      <th>4</th>\n",
       "      <th>5</th>\n",
       "      <th>6</th>\n",
       "      <th>7</th>\n",
       "      <th>8</th>\n",
       "      <th>9</th>\n",
       "      <th>...</th>\n",
       "      <th>178</th>\n",
       "      <th>179</th>\n",
       "      <th>180</th>\n",
       "      <th>181</th>\n",
       "      <th>182</th>\n",
       "      <th>183</th>\n",
       "      <th>184</th>\n",
       "      <th>185</th>\n",
       "      <th>186</th>\n",
       "      <th>187</th>\n",
       "    </tr>\n",
       "  </thead>\n",
       "  <tbody>\n",
       "    <tr>\n",
       "      <th>0</th>\n",
       "      <td>0.927922</td>\n",
       "      <td>0.608722</td>\n",
       "      <td>0.253180</td>\n",
       "      <td>0.140521</td>\n",
       "      <td>0.111448</td>\n",
       "      <td>0.072683</td>\n",
       "      <td>0.072078</td>\n",
       "      <td>0.039976</td>\n",
       "      <td>0.055724</td>\n",
       "      <td>0.059964</td>\n",
       "      <td>...</td>\n",
       "      <td>0.0</td>\n",
       "      <td>0.0</td>\n",
       "      <td>0.0</td>\n",
       "      <td>0.0</td>\n",
       "      <td>0.0</td>\n",
       "      <td>0.0</td>\n",
       "      <td>0.0</td>\n",
       "      <td>0.0</td>\n",
       "      <td>0.0</td>\n",
       "      <td>0.0</td>\n",
       "    </tr>\n",
       "    <tr>\n",
       "      <th>1</th>\n",
       "      <td>0.988517</td>\n",
       "      <td>0.825837</td>\n",
       "      <td>0.083892</td>\n",
       "      <td>0.069537</td>\n",
       "      <td>0.052313</td>\n",
       "      <td>0.013716</td>\n",
       "      <td>0.003828</td>\n",
       "      <td>0.001276</td>\n",
       "      <td>0.000000</td>\n",
       "      <td>0.002871</td>\n",
       "      <td>...</td>\n",
       "      <td>0.0</td>\n",
       "      <td>0.0</td>\n",
       "      <td>0.0</td>\n",
       "      <td>0.0</td>\n",
       "      <td>0.0</td>\n",
       "      <td>0.0</td>\n",
       "      <td>0.0</td>\n",
       "      <td>0.0</td>\n",
       "      <td>0.0</td>\n",
       "      <td>1.0</td>\n",
       "    </tr>\n",
       "    <tr>\n",
       "      <th>2</th>\n",
       "      <td>1.000000</td>\n",
       "      <td>0.877725</td>\n",
       "      <td>0.594740</td>\n",
       "      <td>0.496067</td>\n",
       "      <td>0.394471</td>\n",
       "      <td>0.340751</td>\n",
       "      <td>0.279389</td>\n",
       "      <td>0.235334</td>\n",
       "      <td>0.233985</td>\n",
       "      <td>0.228815</td>\n",
       "      <td>...</td>\n",
       "      <td>0.0</td>\n",
       "      <td>0.0</td>\n",
       "      <td>0.0</td>\n",
       "      <td>0.0</td>\n",
       "      <td>0.0</td>\n",
       "      <td>0.0</td>\n",
       "      <td>0.0</td>\n",
       "      <td>0.0</td>\n",
       "      <td>0.0</td>\n",
       "      <td>1.0</td>\n",
       "    </tr>\n",
       "    <tr>\n",
       "      <th>3</th>\n",
       "      <td>0.987891</td>\n",
       "      <td>0.480659</td>\n",
       "      <td>0.268416</td>\n",
       "      <td>0.044736</td>\n",
       "      <td>0.000000</td>\n",
       "      <td>0.059199</td>\n",
       "      <td>0.121090</td>\n",
       "      <td>0.118399</td>\n",
       "      <td>0.118399</td>\n",
       "      <td>0.120753</td>\n",
       "      <td>...</td>\n",
       "      <td>0.0</td>\n",
       "      <td>0.0</td>\n",
       "      <td>0.0</td>\n",
       "      <td>0.0</td>\n",
       "      <td>0.0</td>\n",
       "      <td>0.0</td>\n",
       "      <td>0.0</td>\n",
       "      <td>0.0</td>\n",
       "      <td>0.0</td>\n",
       "      <td>0.0</td>\n",
       "    </tr>\n",
       "    <tr>\n",
       "      <th>4</th>\n",
       "      <td>0.905660</td>\n",
       "      <td>0.876128</td>\n",
       "      <td>0.882691</td>\n",
       "      <td>0.849877</td>\n",
       "      <td>0.854799</td>\n",
       "      <td>0.754717</td>\n",
       "      <td>0.741591</td>\n",
       "      <td>0.726825</td>\n",
       "      <td>0.723544</td>\n",
       "      <td>0.716161</td>\n",
       "      <td>...</td>\n",
       "      <td>0.0</td>\n",
       "      <td>0.0</td>\n",
       "      <td>0.0</td>\n",
       "      <td>0.0</td>\n",
       "      <td>0.0</td>\n",
       "      <td>0.0</td>\n",
       "      <td>0.0</td>\n",
       "      <td>0.0</td>\n",
       "      <td>0.0</td>\n",
       "      <td>1.0</td>\n",
       "    </tr>\n",
       "    <tr>\n",
       "      <th>...</th>\n",
       "      <td>...</td>\n",
       "      <td>...</td>\n",
       "      <td>...</td>\n",
       "      <td>...</td>\n",
       "      <td>...</td>\n",
       "      <td>...</td>\n",
       "      <td>...</td>\n",
       "      <td>...</td>\n",
       "      <td>...</td>\n",
       "      <td>...</td>\n",
       "      <td>...</td>\n",
       "      <td>...</td>\n",
       "      <td>...</td>\n",
       "      <td>...</td>\n",
       "      <td>...</td>\n",
       "      <td>...</td>\n",
       "      <td>...</td>\n",
       "      <td>...</td>\n",
       "      <td>...</td>\n",
       "      <td>...</td>\n",
       "      <td>...</td>\n",
       "    </tr>\n",
       "    <tr>\n",
       "      <th>14547</th>\n",
       "      <td>0.934852</td>\n",
       "      <td>0.473621</td>\n",
       "      <td>0.095124</td>\n",
       "      <td>0.031575</td>\n",
       "      <td>0.087530</td>\n",
       "      <td>0.134293</td>\n",
       "      <td>0.111111</td>\n",
       "      <td>0.106715</td>\n",
       "      <td>0.107514</td>\n",
       "      <td>0.103118</td>\n",
       "      <td>...</td>\n",
       "      <td>0.0</td>\n",
       "      <td>0.0</td>\n",
       "      <td>0.0</td>\n",
       "      <td>0.0</td>\n",
       "      <td>0.0</td>\n",
       "      <td>0.0</td>\n",
       "      <td>0.0</td>\n",
       "      <td>0.0</td>\n",
       "      <td>0.0</td>\n",
       "      <td>0.0</td>\n",
       "    </tr>\n",
       "    <tr>\n",
       "      <th>14548</th>\n",
       "      <td>1.000000</td>\n",
       "      <td>0.369954</td>\n",
       "      <td>0.007074</td>\n",
       "      <td>0.067416</td>\n",
       "      <td>0.108614</td>\n",
       "      <td>0.108614</td>\n",
       "      <td>0.109447</td>\n",
       "      <td>0.107782</td>\n",
       "      <td>0.104453</td>\n",
       "      <td>0.097794</td>\n",
       "      <td>...</td>\n",
       "      <td>0.0</td>\n",
       "      <td>0.0</td>\n",
       "      <td>0.0</td>\n",
       "      <td>0.0</td>\n",
       "      <td>0.0</td>\n",
       "      <td>0.0</td>\n",
       "      <td>0.0</td>\n",
       "      <td>0.0</td>\n",
       "      <td>0.0</td>\n",
       "      <td>0.0</td>\n",
       "    </tr>\n",
       "    <tr>\n",
       "      <th>14549</th>\n",
       "      <td>0.922985</td>\n",
       "      <td>0.821588</td>\n",
       "      <td>0.630390</td>\n",
       "      <td>0.439191</td>\n",
       "      <td>0.267916</td>\n",
       "      <td>0.156705</td>\n",
       "      <td>0.094261</td>\n",
       "      <td>0.087422</td>\n",
       "      <td>0.083556</td>\n",
       "      <td>0.074338</td>\n",
       "      <td>...</td>\n",
       "      <td>0.0</td>\n",
       "      <td>0.0</td>\n",
       "      <td>0.0</td>\n",
       "      <td>0.0</td>\n",
       "      <td>0.0</td>\n",
       "      <td>0.0</td>\n",
       "      <td>0.0</td>\n",
       "      <td>0.0</td>\n",
       "      <td>0.0</td>\n",
       "      <td>1.0</td>\n",
       "    </tr>\n",
       "    <tr>\n",
       "      <th>14550</th>\n",
       "      <td>1.000000</td>\n",
       "      <td>0.561591</td>\n",
       "      <td>0.403977</td>\n",
       "      <td>0.265276</td>\n",
       "      <td>0.211930</td>\n",
       "      <td>0.160524</td>\n",
       "      <td>0.100388</td>\n",
       "      <td>0.084384</td>\n",
       "      <td>0.075655</td>\n",
       "      <td>0.067895</td>\n",
       "      <td>...</td>\n",
       "      <td>0.0</td>\n",
       "      <td>0.0</td>\n",
       "      <td>0.0</td>\n",
       "      <td>0.0</td>\n",
       "      <td>0.0</td>\n",
       "      <td>0.0</td>\n",
       "      <td>0.0</td>\n",
       "      <td>0.0</td>\n",
       "      <td>0.0</td>\n",
       "      <td>1.0</td>\n",
       "    </tr>\n",
       "    <tr>\n",
       "      <th>14551</th>\n",
       "      <td>1.000000</td>\n",
       "      <td>0.419862</td>\n",
       "      <td>0.013199</td>\n",
       "      <td>0.026398</td>\n",
       "      <td>0.094909</td>\n",
       "      <td>0.169705</td>\n",
       "      <td>0.168448</td>\n",
       "      <td>0.187304</td>\n",
       "      <td>0.195475</td>\n",
       "      <td>0.194846</td>\n",
       "      <td>...</td>\n",
       "      <td>0.0</td>\n",
       "      <td>0.0</td>\n",
       "      <td>0.0</td>\n",
       "      <td>0.0</td>\n",
       "      <td>0.0</td>\n",
       "      <td>0.0</td>\n",
       "      <td>0.0</td>\n",
       "      <td>0.0</td>\n",
       "      <td>0.0</td>\n",
       "      <td>0.0</td>\n",
       "    </tr>\n",
       "  </tbody>\n",
       "</table>\n",
       "<p>14552 rows × 188 columns</p>\n",
       "</div>"
      ],
      "text/plain": [
       "            0         1         2         3         4         5         6    \\\n",
       "0      0.927922  0.608722  0.253180  0.140521  0.111448  0.072683  0.072078   \n",
       "1      0.988517  0.825837  0.083892  0.069537  0.052313  0.013716  0.003828   \n",
       "2      1.000000  0.877725  0.594740  0.496067  0.394471  0.340751  0.279389   \n",
       "3      0.987891  0.480659  0.268416  0.044736  0.000000  0.059199  0.121090   \n",
       "4      0.905660  0.876128  0.882691  0.849877  0.854799  0.754717  0.741591   \n",
       "...         ...       ...       ...       ...       ...       ...       ...   \n",
       "14547  0.934852  0.473621  0.095124  0.031575  0.087530  0.134293  0.111111   \n",
       "14548  1.000000  0.369954  0.007074  0.067416  0.108614  0.108614  0.109447   \n",
       "14549  0.922985  0.821588  0.630390  0.439191  0.267916  0.156705  0.094261   \n",
       "14550  1.000000  0.561591  0.403977  0.265276  0.211930  0.160524  0.100388   \n",
       "14551  1.000000  0.419862  0.013199  0.026398  0.094909  0.169705  0.168448   \n",
       "\n",
       "            7         8         9    ...  178  179  180  181  182  183  184  \\\n",
       "0      0.039976  0.055724  0.059964  ...  0.0  0.0  0.0  0.0  0.0  0.0  0.0   \n",
       "1      0.001276  0.000000  0.002871  ...  0.0  0.0  0.0  0.0  0.0  0.0  0.0   \n",
       "2      0.235334  0.233985  0.228815  ...  0.0  0.0  0.0  0.0  0.0  0.0  0.0   \n",
       "3      0.118399  0.118399  0.120753  ...  0.0  0.0  0.0  0.0  0.0  0.0  0.0   \n",
       "4      0.726825  0.723544  0.716161  ...  0.0  0.0  0.0  0.0  0.0  0.0  0.0   \n",
       "...         ...       ...       ...  ...  ...  ...  ...  ...  ...  ...  ...   \n",
       "14547  0.106715  0.107514  0.103118  ...  0.0  0.0  0.0  0.0  0.0  0.0  0.0   \n",
       "14548  0.107782  0.104453  0.097794  ...  0.0  0.0  0.0  0.0  0.0  0.0  0.0   \n",
       "14549  0.087422  0.083556  0.074338  ...  0.0  0.0  0.0  0.0  0.0  0.0  0.0   \n",
       "14550  0.084384  0.075655  0.067895  ...  0.0  0.0  0.0  0.0  0.0  0.0  0.0   \n",
       "14551  0.187304  0.195475  0.194846  ...  0.0  0.0  0.0  0.0  0.0  0.0  0.0   \n",
       "\n",
       "       185  186  187  \n",
       "0      0.0  0.0  0.0  \n",
       "1      0.0  0.0  1.0  \n",
       "2      0.0  0.0  1.0  \n",
       "3      0.0  0.0  0.0  \n",
       "4      0.0  0.0  1.0  \n",
       "...    ...  ...  ...  \n",
       "14547  0.0  0.0  0.0  \n",
       "14548  0.0  0.0  0.0  \n",
       "14549  0.0  0.0  1.0  \n",
       "14550  0.0  0.0  1.0  \n",
       "14551  0.0  0.0  0.0  \n",
       "\n",
       "[14552 rows x 188 columns]"
      ]
     },
     "execution_count": 18,
     "metadata": {},
     "output_type": "execute_result"
    }
   ],
   "source": [
    "df_abn_n"
   ]
  },
  {
   "cell_type": "code",
   "execution_count": 19,
   "metadata": {},
   "outputs": [
    {
     "data": {
      "text/plain": [
       "array([0., 1.])"
      ]
     },
     "execution_count": 19,
     "metadata": {},
     "output_type": "execute_result"
    }
   ],
   "source": [
    "df_abn_n.iloc[:,187].unique()"
   ]
  },
  {
   "cell_type": "code",
   "execution_count": 16,
   "metadata": {},
   "outputs": [
    {
     "data": {
      "text/plain": [
       "187\n",
       "1.0    10506\n",
       "0.0     4046\n",
       "Name: count, dtype: int64"
      ]
     },
     "execution_count": 16,
     "metadata": {},
     "output_type": "execute_result"
    }
   ],
   "source": [
    "value_counts_train_data = df_abn_n[187].value_counts()\n",
    "value_counts_train_data"
   ]
  },
  {
   "cell_type": "code",
   "execution_count": 17,
   "metadata": {},
   "outputs": [
    {
     "data": {
      "image/png": "[encoded data removed]",
      "text/plain": [
       "<Figure size 1000x1000 with 1 Axes>"
      ]
     },
     "metadata": {},
     "output_type": "display_data"
    }
   ],
   "source": [
    "\n",
    "plt.figure(figsize= (10,10))\n",
    "my_circle = plt.Circle((0,0), 0.7, color = 'white') \n",
    "plt.pie(df_abn_n[187].value_counts(), labels=['Abnormal Beats','Normal Beats',], autopct = '%0.0f%%', \n",
    "                                colors = ['red','orange'])\n",
    "p = plt.gcf()\n",
    "p.gca().add_artist(my_circle)\n",
    "plt.show()"
   ]
  },
  {
   "cell_type": "markdown",
   "metadata": {},
   "source": [
    "# Apply Supervised Learning"
   ]
  },
  {
   "cell_type": "code",
   "execution_count": 20,
   "metadata": {},
   "outputs": [],
   "source": [
    "X1  = df_abn_n.iloc[:,:-1]\n",
    "y1 = df_abn_n.iloc[:,-1]"
   ]
  },
  {
   "cell_type": "code",
   "execution_count": 24,
   "metadata": {},
   "outputs": [],
   "source": [
    "X_train, X_test, y_train, y_test = train_test_split(X1, y1, test_size=0.2, random_state=42)"
   ]
  },
  {
   "cell_type": "markdown",
   "metadata": {},
   "source": [
    "Sampling Class"
   ]
  },
  {
   "cell_type": "code",
   "execution_count": 21,
   "metadata": {},
   "outputs": [],
   "source": [
    "class Samplingdata:\n",
    "    def __init__(self, X, y):\n",
    "        self.X = X\n",
    "        self.y = y\n",
    "    def smote(self):\n",
    "        smote = SMOTE(random_state=42, k_neighbors=3)#, n_jobs=-1\n",
    "        X_smote, y_smote = smote.fit_resample(self.X, self.y)#type: ignore\n",
    "        return X_smote, y_smote\n",
    "    def tomek(self):\n",
    "        tomek = TomekLinks()\n",
    "        X_tomek, y_tomek = tomek.fit_resample(self.X, self.y)#type: ignore\n",
    "        return X_tomek, y_tomek\n",
    "    def smote_tomek(self):\n",
    "        smt = SMOTETomek(random_state=42)\n",
    "        X_smt, y_smt = smt.fit_resample(self.X, self.y)#type: ignore\n",
    "        return X_smt, y_smt"
   ]
  },
  {
   "cell_type": "markdown",
   "metadata": {},
   "source": [
    "Model Class"
   ]
  },
  {
   "cell_type": "code",
   "execution_count": 22,
   "metadata": {},
   "outputs": [],
   "source": [
    "class Model:\n",
    "    def __init__ (self, model, X_train, X_test, y_train, y_test):\n",
    "        self.model = model\n",
    "        self.X_train = X_train\n",
    "        self.X_test = X_test\n",
    "        self.y_train = y_train\n",
    "        self.y_test = y_test\n",
    "    def model_fit(self, X_train, y_train):\n",
    "        self.model.fit(X_train, y_train)\n",
    "    def model_report(self, y_pred, y_test):\n",
    "        accuracy = accuracy_score(y_test, y_pred)\n",
    "        confusion = confusion_matrix(y_test, y_pred, normalize='true')\n",
    "        classification = classification_report(y_test, y_pred)\n",
    "        recall = recall_score(y_test, y_pred, average='weighted')\n",
    "        precision = precision_score(y_test, y_pred, average='weighted')\n",
    "        f1Score = f1_score(y_test, y_pred, average='weighted')\n",
    "        return accuracy, confusion, classification, recall, precision, f1Score\n",
    "    def model_pred(self, X_test):\n",
    "        y_pred = self.model.predict(X_test)\n",
    "        return y_pred"
   ]
  },
  {
   "cell_type": "markdown",
   "metadata": {},
   "source": [
    "Draw_confusion"
   ]
  },
  {
   "cell_type": "code",
   "execution_count": 52,
   "metadata": {},
   "outputs": [],
   "source": [
    "class ReportModel:\n",
    "    def __init__(self, confusion_mat, model_name, smpl_name, model_accu, model_precision, model_recall, model_F1, model_cl_report):\n",
    "        self.confusion_mat = confusion_mat\n",
    "        self.model_name = model_name\n",
    "        self.smpl_name = smpl_name\n",
    "        self.model_accu = model_accu\n",
    "        self.model_precision = model_precision\n",
    "        self.model_recall = model_recall\n",
    "        self.model_F1 = model_F1\n",
    "        self.model_cl_report = model_cl_report\n",
    "    def draw_conf(self, confusion_mat, model_name, smpl_name):\n",
    "        plt.figure(figsize=(8,5))\n",
    "        sns.heatmap(confusion_mat, annot=True, linewidths=0.01, fmt = '0.3f')\n",
    "        plt.title(f\"{model_name} {smpl_name} Confusion Matrix\")\n",
    "        plt.ylabel('Actual Label')\n",
    "        plt.xlabel('Predicted Label')\n",
    "        plt.show()\n",
    "    def print_report(self):\n",
    "        print(f\"accuracy is: {self.model_accu}\")\n",
    "        print(f\"Precision: {self.model_precision}\")\n",
    "        print(f\"Recall: {self.model_recall}\")\n",
    "        print(f\"F1_Score: {self.model_F1}\")\n",
    "        print(f\"classification:\\n {self.model_cl_report}\")"
   ]
  },
  {
   "cell_type": "markdown",
   "metadata": {},
   "source": [
    "Sampling X,y"
   ]
  },
  {
   "cell_type": "code",
   "execution_count": 25,
   "metadata": {},
   "outputs": [],
   "source": [
    "X1_oversample, y1_oversample = Samplingdata(X1, y1).smote()\n",
    "X_train_smote, X_test_smote, y_train_smote, y_test_smote = train_test_split(X1_oversample, y1_oversample, test_size=0.2, random_state=42, stratify=y1_oversample)"
   ]
  },
  {
   "cell_type": "code",
   "execution_count": 26,
   "metadata": {},
   "outputs": [],
   "source": [
    "X1_undersample, y1_undersample = Samplingdata(X1, y1).tomek()\n",
    "X_train_tomek, X_test_tomek, y_train_tomek, y_test_tomek = train_test_split(X1_undersample, y1_undersample, test_size=0.2, random_state=42, stratify=y1_undersample)"
   ]
  },
  {
   "cell_type": "code",
   "execution_count": 27,
   "metadata": {},
   "outputs": [],
   "source": [
    "X1_Smotek, y1_Smotek = Samplingdata(X1, y1).smote_tomek()\n",
    "X_train_smotek, X_test_smotek, y_train_smotek, y_test_smotek = train_test_split(X1_Smotek, y1_Smotek, test_size=0.2, random_state=42, stratify=y1_Smotek)"
   ]
  },
  {
   "cell_type": "markdown",
   "metadata": {},
   "source": [
    "Logistic Regression"
   ]
  },
  {
   "cell_type": "code",
   "execution_count": 28,
   "metadata": {},
   "outputs": [],
   "source": [
    "model_logistic_reg = LogisticRegression(random_state=42, max_iter=100, multi_class='auto', solver='liblinear')"
   ]
  },
  {
   "cell_type": "code",
   "execution_count": 29,
   "metadata": {},
   "outputs": [],
   "source": [
    "MyModel1 = Model(model_logistic_reg, X_train_smote, X_test_smote, y_train_smote, y_test_smote)\n",
    "MyModel1.model_fit(X_train_smote,  y_train_smote)"
   ]
  },
  {
   "cell_type": "code",
   "execution_count": 30,
   "metadata": {},
   "outputs": [],
   "source": [
    "prediction1 = MyModel1.model_pred(X_test_smote)\n",
    "model_accu_1, model_con_mat_1, model_cl_report_1, model_recall_1, model_precision_1, model_F1_1 = MyModel1.model_report(prediction1, y_test_smote)"
   ]
  },
  {
   "cell_type": "code",
   "execution_count": 70,
   "metadata": {},
   "outputs": [],
   "source": [
    "log_reg_m1 =  ReportModel(model_con_mat_1, 'Logistic Regression', 'SMOTE', model_accu_1, model_precision_1, model_recall_1, model_F1_1, model_cl_report_1)"
   ]
  },
  {
   "cell_type": "code",
   "execution_count": 71,
   "metadata": {},
   "outputs": [
    {
     "name": "stdout",
     "output_type": "stream",
     "text": [
      "accuracy is: 0.7989531287175827\n",
      "Precision: 0.8003018402072077\n",
      "Recall: 0.7989531287175827\n",
      "F1_Score: 0.7987249989249516\n",
      "classification:\n",
      "               precision    recall  f1-score   support\n",
      "\n",
      "         0.0       0.78      0.83      0.81      2102\n",
      "         1.0       0.82      0.77      0.79      2101\n",
      "\n",
      "    accuracy                           0.80      4203\n",
      "   macro avg       0.80      0.80      0.80      4203\n",
      "weighted avg       0.80      0.80      0.80      4203\n",
      "\n"
     ]
    }
   ],
   "source": [
    "log_reg_m1.print_report(model_accu_1, model_precision_1, model_recall_1, model_F1_1, model_cl_report_1)#type: ignore\n"
   ]
  },
  {
   "cell_type": "code",
   "execution_count": 72,
   "metadata": {},
   "outputs": [
    {
     "data": {
      "image/png": "[encoded data removed]",
      "text/plain": [
       "<Figure size 800x500 with 2 Axes>"
      ]
     },
     "metadata": {},
     "output_type": "display_data"
    }
   ],
   "source": [
    "log_reg_m1.draw_conf(model_con_mat_1, 'Logistic Regression', 'SMOTE')"
   ]
  },
  {
   "cell_type": "code",
   "execution_count": 39,
   "metadata": {},
   "outputs": [],
   "source": [
    "Model2 = Model(model_logistic_reg, X_train_smotek, X_test_smotek, y_train_smotek, y_test_smotek)\n",
    "Model2.model_fit(X_train_smotek, y_train_smotek)"
   ]
  },
  {
   "cell_type": "code",
   "execution_count": 40,
   "metadata": {},
   "outputs": [],
   "source": [
    "prediction2 = Model2.model_pred(X_test_smotek)\n",
    "model_accu_2, model_con_mat_2, model_cl_report_2, model_recall_2, model_precision_2, model_F1_2 = Model2.model_report(prediction2, y_test_smotek)"
   ]
  },
  {
   "cell_type": "code",
   "execution_count": 73,
   "metadata": {},
   "outputs": [],
   "source": [
    "log_reg_m2 = ReportModel(model_con_mat_2, 'Logistic Regression', 'SMOTE_TOMEK', model_accu_2, model_precision_2, model_recall_2, model_F1_2, model_cl_report_2)"
   ]
  },
  {
   "cell_type": "code",
   "execution_count": 74,
   "metadata": {},
   "outputs": [
    {
     "name": "stdout",
     "output_type": "stream",
     "text": [
      "accuracy is: 0.8025720409621339\n",
      "Precision: 0.8033283897781416\n",
      "Recall: 0.8025720409621339\n",
      "F1_Score: 0.8024473345111556\n",
      "classification:\n",
      "               precision    recall  f1-score   support\n",
      "\n",
      "         0.0       0.79      0.83      0.81      2100\n",
      "         1.0       0.82      0.78      0.80      2099\n",
      "\n",
      "    accuracy                           0.80      4199\n",
      "   macro avg       0.80      0.80      0.80      4199\n",
      "weighted avg       0.80      0.80      0.80      4199\n",
      "\n"
     ]
    }
   ],
   "source": [
    "log_reg_m2.print_report(model_accu_2, model_precision_2, model_recall_2, model_F1_2, model_cl_report_2)#type: ignore"
   ]
  },
  {
   "cell_type": "code",
   "execution_count": 75,
   "metadata": {},
   "outputs": [
    {
     "data": {
      "image/png": "[encoded data removed]",
      "text/plain": [
       "<Figure size 800x500 with 2 Axes>"
      ]
     },
     "metadata": {},
     "output_type": "display_data"
    }
   ],
   "source": [
    "log_reg_m2.draw_conf(model_con_mat_2, 'Logistic Regression', 'SMOTE_TOMEK')"
   ]
  },
  {
   "cell_type": "markdown",
   "metadata": {},
   "source": [
    "Decision Tree"
   ]
  },
  {
   "cell_type": "code",
   "execution_count": 43,
   "metadata": {},
   "outputs": [],
   "source": [
    "model_decision_tree = DecisionTreeClassifier(random_state=0)"
   ]
  },
  {
   "cell_type": "code",
   "execution_count": 44,
   "metadata": {},
   "outputs": [],
   "source": [
    "Model3 = Model(model_decision_tree, X_train_smotek, X_test_smotek, y_train_smotek, y_test_smotek)\n",
    "Model3.model_fit(X_train_smotek,  y_train_smotek)"
   ]
  },
  {
   "cell_type": "code",
   "execution_count": 47,
   "metadata": {},
   "outputs": [],
   "source": [
    "prediction3 = Model3.model_pred(X_test_smotek)\n",
    "model_accu_3, model_con_mat_3, model_cl_report_3, model_recall_3, model_precision_3, model_F1_3 = Model3.model_report(prediction3, y_test_smotek)"
   ]
  },
  {
   "cell_type": "code",
   "execution_count": 76,
   "metadata": {},
   "outputs": [],
   "source": [
    "DT_m3 = ReportModel(model_con_mat_3, 'Decision Tree', 'SMOTE_TOMEK', model_accu_3, model_precision_3, model_recall_3, model_F1_3, model_cl_report_3)"
   ]
  },
  {
   "cell_type": "code",
   "execution_count": 77,
   "metadata": {},
   "outputs": [
    {
     "name": "stdout",
     "output_type": "stream",
     "text": [
      "accuracy is: 0.9337937604191474\n",
      "Precision: 0.9340017584556936\n",
      "Recall: 0.9337937604191474\n",
      "F1_Score: 0.9337856411436799\n",
      "classification:\n",
      "               precision    recall  f1-score   support\n",
      "\n",
      "         0.0       0.92      0.94      0.93      2100\n",
      "         1.0       0.94      0.92      0.93      2099\n",
      "\n",
      "    accuracy                           0.93      4199\n",
      "   macro avg       0.93      0.93      0.93      4199\n",
      "weighted avg       0.93      0.93      0.93      4199\n",
      "\n"
     ]
    }
   ],
   "source": [
    "DT_m3.print_report(model_accu_3, model_precision_3, model_recall_3, model_F1_3, model_cl_report_3)#type: ignore"
   ]
  },
  {
   "cell_type": "code",
   "execution_count": 78,
   "metadata": {},
   "outputs": [
    {
     "data": {
      "image/png": "[encoded data removed]",
      "text/plain": [
       "<Figure size 800x500 with 2 Axes>"
      ]
     },
     "metadata": {},
     "output_type": "display_data"
    }
   ],
   "source": [
    "DT_m3.draw_conf(model_con_mat_3, 'Decision Tree', 'SMOTE_TOMEK')"
   ]
  },
  {
   "cell_type": "markdown",
   "metadata": {},
   "source": [
    "k-nearest"
   ]
  },
  {
   "cell_type": "code",
   "execution_count": 67,
   "metadata": {},
   "outputs": [],
   "source": [
    "model_k_nearest = KNeighborsClassifier(n_jobs=-1)"
   ]
  },
  {
   "cell_type": "code",
   "execution_count": 68,
   "metadata": {},
   "outputs": [],
   "source": [
    "Model4 = Model(model_k_nearest, X_train_smotek, X_test_smotek, y_train_smotek, y_test_smotek)\n",
    "Model4.model_fit(X_train_smotek, y_train_smotek)"
   ]
  },
  {
   "cell_type": "code",
   "execution_count": 69,
   "metadata": {},
   "outputs": [],
   "source": [
    "prediction4 = Model4.model_pred(X_test_smotek)\n",
    "model_accu_4, model_con_mat_4, model_cl_report_4, model_recall_4, model_precision_4, model_F1_4 = Model4.model_report(prediction4, y_test_smotek)"
   ]
  },
  {
   "cell_type": "code",
   "execution_count": 79,
   "metadata": {},
   "outputs": [],
   "source": [
    "knn_m4 = ReportModel(model_con_mat_4, 'Logistic Regression', 'SMOTE', model_accu_1, model_precision_1, model_recall_1, model_F1_1, model_cl_report_1)"
   ]
  },
  {
   "cell_type": "code",
   "execution_count": 80,
   "metadata": {},
   "outputs": [
    {
     "name": "stdout",
     "output_type": "stream",
     "text": [
      "accuracy is: 0.9466539652298166\n",
      "Precision: 0.9504199039260716\n",
      "Recall: 0.9466539652298166\n",
      "F1_Score: 0.9465416115231019\n",
      "classification:\n",
      "               precision    recall  f1-score   support\n",
      "\n",
      "         0.0       0.91      0.99      0.95      2100\n",
      "         1.0       0.99      0.90      0.94      2099\n",
      "\n",
      "    accuracy                           0.95      4199\n",
      "   macro avg       0.95      0.95      0.95      4199\n",
      "weighted avg       0.95      0.95      0.95      4199\n",
      "\n"
     ]
    }
   ],
   "source": [
    "knn_m4.print_report(model_accu_4, model_precision_4, model_recall_4, model_F1_4, model_cl_report_4)#type: ignore"
   ]
  },
  {
   "cell_type": "code",
   "execution_count": 81,
   "metadata": {},
   "outputs": [
    {
     "data": {
      "image/png": "[encoded data removed]",
      "text/plain": [
       "<Figure size 800x500 with 2 Axes>"
      ]
     },
     "metadata": {},
     "output_type": "display_data"
    }
   ],
   "source": [
    "knn_m4.draw_conf(model_con_mat_4, 'K-Nearest', 'SMOTE_TOMEK')"
   ]
  },
  {
   "cell_type": "markdown",
   "metadata": {},
   "source": [
    "Linear SVC"
   ]
  },
  {
   "cell_type": "code",
   "execution_count": 82,
   "metadata": {},
   "outputs": [],
   "source": [
    "model_linear_svc = LinearSVC(random_state=42, max_iter=5000, dual = True)"
   ]
  },
  {
   "cell_type": "code",
   "execution_count": 83,
   "metadata": {},
   "outputs": [],
   "source": [
    "Model5 = Model(model_linear_svc, X_train_smotek, X_test_smotek, y_train_smotek, y_test_smotek)\n",
    "Model5.model_fit(X_train_smotek, y_train_smotek)"
   ]
  },
  {
   "cell_type": "code",
   "execution_count": 84,
   "metadata": {},
   "outputs": [],
   "source": [
    "prediction5 = Model5.model_pred(X_test_smotek)\n",
    "model_accu_5, model_con_mat_5, model_cl_report_5, model_recall_5, model_precision_5, model_F1_5 = Model5.model_report(prediction5, y_test_smotek)"
   ]
  },
  {
   "cell_type": "code",
   "execution_count": 85,
   "metadata": {},
   "outputs": [],
   "source": [
    "linear_svc_m5 = ReportModel(model_con_mat_5, 'Linear SVC', 'SMOTE_TOMEK', model_accu_5, model_precision_5, model_recall_5, model_F1_5, model_cl_report_5)"
   ]
  },
  {
   "cell_type": "code",
   "execution_count": 86,
   "metadata": {},
   "outputs": [
    {
     "name": "stdout",
     "output_type": "stream",
     "text": [
      "accuracy is: 0.8035246487258871\n",
      "Precision: 0.804636549616418\n",
      "Recall: 0.8035246487258871\n",
      "F1_Score: 0.8033433337122651\n",
      "classification:\n",
      "               precision    recall  f1-score   support\n",
      "\n",
      "         0.0       0.79      0.83      0.81      2100\n",
      "         1.0       0.82      0.77      0.80      2099\n",
      "\n",
      "    accuracy                           0.80      4199\n",
      "   macro avg       0.80      0.80      0.80      4199\n",
      "weighted avg       0.80      0.80      0.80      4199\n",
      "\n"
     ]
    }
   ],
   "source": [
    "linear_svc_m5.print_report(model_accu_5, model_precision_5, model_recall_5, model_F1_5, model_cl_report_5)#type: ignore"
   ]
  },
  {
   "cell_type": "code",
   "execution_count": 87,
   "metadata": {},
   "outputs": [
    {
     "data": {
      "image/png": "[encoded data removed]",
      "text/plain": [
       "<Figure size 800x500 with 2 Axes>"
      ]
     },
     "metadata": {},
     "output_type": "display_data"
    }
   ],
   "source": [
    "linear_svc_m5.draw_conf(model_con_mat_5, 'Linear SVC', 'SMOTE_TOMEK')"
   ]
  },
  {
   "cell_type": "code",
   "execution_count": 88,
   "metadata": {},
   "outputs": [],
   "source": [
    "model_SVM = SVC(random_state=42)"
   ]
  },
  {
   "cell_type": "code",
   "execution_count": 89,
   "metadata": {},
   "outputs": [],
   "source": [
    "Model6 = Model(model_SVM, X_train_smotek, X_test_smotek, y_train_smotek, y_test_smotek)\n",
    "Model6.model_fit(X_train_smotek, y_train_smotek)"
   ]
  },
  {
   "cell_type": "code",
   "execution_count": 90,
   "metadata": {},
   "outputs": [],
   "source": [
    "prediction6 = Model6.model_pred(X_test_smotek)\n",
    "model_accu_6, model_con_mat_6, model_cl_report_6, model_recall_6, model_precision_6, model_F1_6 = Model6.model_report(prediction6, y_test_smotek)"
   ]
  },
  {
   "cell_type": "code",
   "execution_count": 91,
   "metadata": {},
   "outputs": [],
   "source": [
    "SVM_m6 = ReportModel(model_con_mat_6, 'SVM', 'SMOTE_TOMEK', model_accu_6, model_precision_6, model_recall_6, model_F1_6, model_cl_report_6)"
   ]
  },
  {
   "cell_type": "code",
   "execution_count": 92,
   "metadata": {},
   "outputs": [
    {
     "name": "stdout",
     "output_type": "stream",
     "text": [
      "accuracy is: 0.9223624672541081\n",
      "Precision: 0.9239371442950335\n",
      "Recall: 0.9223624672541081\n",
      "F1_Score: 0.9222896909923001\n",
      "classification:\n",
      "               precision    recall  f1-score   support\n",
      "\n",
      "         0.0       0.90      0.95      0.92      2100\n",
      "         1.0       0.95      0.89      0.92      2099\n",
      "\n",
      "    accuracy                           0.92      4199\n",
      "   macro avg       0.92      0.92      0.92      4199\n",
      "weighted avg       0.92      0.92      0.92      4199\n",
      "\n"
     ]
    }
   ],
   "source": [
    "SVM_m6.print_report(model_accu_6, model_precision_6, model_recall_6, model_F1_6, model_cl_report_6)#type: ignore"
   ]
  },
  {
   "cell_type": "code",
   "execution_count": 93,
   "metadata": {},
   "outputs": [
    {
     "data": {
      "image/png": "[encoded data removed]",
      "text/plain": [
       "<Figure size 800x500 with 2 Axes>"
      ]
     },
     "metadata": {},
     "output_type": "display_data"
    }
   ],
   "source": [
    "SVM_m6.draw_conf(model_con_mat_6, 'SVM', 'SMOTE_TOMEK')"
   ]
  },
  {
   "cell_type": "markdown",
   "metadata": {},
   "source": [
    "# Apply Unsupervised Learning"
   ]
  },
  {
   "cell_type": "code",
   "execution_count": 94,
   "metadata": {},
   "outputs": [],
   "source": [
    "df_features = df_abn_n.iloc[:,:-1]\n",
    "df_classes = df_abn_n.iloc[:,-1]"
   ]
  },
  {
   "cell_type": "code",
   "execution_count": 95,
   "metadata": {},
   "outputs": [
    {
     "name": "stdout",
     "output_type": "stream",
     "text": [
      "<class 'pandas.core.frame.DataFrame'>\n",
      "RangeIndex: 14552 entries, 0 to 14551\n",
      "Columns: 187 entries, 0 to 186\n",
      "dtypes: float64(187)\n",
      "memory usage: 20.8 MB\n"
     ]
    }
   ],
   "source": [
    "df_features.info()"
   ]
  },
  {
   "cell_type": "code",
   "execution_count": 96,
   "metadata": {},
   "outputs": [
    {
     "name": "stdout",
     "output_type": "stream",
     "text": [
      "<class 'pandas.core.series.Series'>\n",
      "RangeIndex: 14552 entries, 0 to 14551\n",
      "Series name: 187\n",
      "Non-Null Count  Dtype  \n",
      "--------------  -----  \n",
      "14552 non-null  float64\n",
      "dtypes: float64(1)\n",
      "memory usage: 113.8 KB\n"
     ]
    }
   ],
   "source": [
    "df_classes.info()"
   ]
  },
  {
   "cell_type": "markdown",
   "metadata": {},
   "source": [
    "K-Means"
   ]
  },
  {
   "cell_type": "code",
   "execution_count": 102,
   "metadata": {},
   "outputs": [],
   "source": [
    "kmeans = KMeans(n_clusters=2, random_state=42, init = 'k-means++')"
   ]
  },
  {
   "cell_type": "code",
   "execution_count": 103,
   "metadata": {},
   "outputs": [],
   "source": [
    "classes = kmeans.fit_predict(df_features)"
   ]
  },
  {
   "cell_type": "code",
   "execution_count": 107,
   "metadata": {},
   "outputs": [],
   "source": [
    "pca = PCA(n_components=2, random_state=42)"
   ]
  },
  {
   "cell_type": "code",
   "execution_count": 108,
   "metadata": {},
   "outputs": [],
   "source": [
    "reduce_features = pca.fit_transform(df_features)"
   ]
  },
  {
   "cell_type": "code",
   "execution_count": 110,
   "metadata": {},
   "outputs": [
    {
     "data": {
      "image/png": "[encoded data removed]",
      "text/plain": [
       "<Figure size 640x480 with 2 Axes>"
      ]
     },
     "metadata": {},
     "output_type": "display_data"
    }
   ],
   "source": [
    "plt.scatter(reduce_features[:, 0], reduce_features[:, 1], c=classes, cmap='coolwarm')\n",
    "plt.title('Binary KMeans Clustering Visualization')\n",
    "plt.xlabel('Dimension 1')\n",
    "plt.ylabel('Dimension 2')\n",
    "plt.colorbar(label='Cluster')\n",
    "plt.show()"
   ]
  },
  {
   "cell_type": "code",
   "execution_count": 118,
   "metadata": {},
   "outputs": [
    {
     "name": "stdout",
     "output_type": "stream",
     "text": [
      "Silhouette Score: 0.2960067752996001\n"
     ]
    }
   ],
   "source": [
    "silhouette_avg = silhouette_score(df_features, classes)\n",
    "print(f\"Silhouette Score: {silhouette_avg}\")"
   ]
  },
  {
   "cell_type": "markdown",
   "metadata": {},
   "source": [
    "# Ensemble"
   ]
  },
  {
   "cell_type": "markdown",
   "metadata": {},
   "source": [
    "Random Forest"
   ]
  },
  {
   "cell_type": "code",
   "execution_count": 114,
   "metadata": {},
   "outputs": [],
   "source": [
    "model_random_forest = RandomForestClassifier(random_state=42)"
   ]
  },
  {
   "cell_type": "code",
   "execution_count": 115,
   "metadata": {},
   "outputs": [],
   "source": [
    "Model7 = Model(model_random_forest, X_train_smotek, X_test_smotek, y_train_smotek, y_test_smotek)\n",
    "Model7.model_fit(X_train_smotek, y_train_smotek)"
   ]
  },
  {
   "cell_type": "code",
   "execution_count": 116,
   "metadata": {},
   "outputs": [],
   "source": [
    "prediction7 = Model7.model_pred(X_test_smotek)\n",
    "model_accu_7, model_con_mat_7, model_cl_report_7, model_recall_7, model_precision_7, model_F1_7 = Model7.model_report(prediction7, y_test_smotek)"
   ]
  },
  {
   "cell_type": "code",
   "execution_count": 119,
   "metadata": {},
   "outputs": [],
   "source": [
    "randm_m7 = ReportModel(model_con_mat_7, 'Random Forest', 'SMOTE_TOMEK', model_accu_7, model_precision_7, model_recall_7, model_F1_7, model_cl_report_7)"
   ]
  },
  {
   "cell_type": "code",
   "execution_count": 120,
   "metadata": {},
   "outputs": [
    {
     "name": "stdout",
     "output_type": "stream",
     "text": [
      "accuracy is: 0.978328173374613\n",
      "Precision: 0.9783673043571689\n",
      "Recall: 0.978328173374613\n",
      "F1_Score: 0.9783277062882179\n",
      "classification:\n",
      "               precision    recall  f1-score   support\n",
      "\n",
      "         0.0       0.97      0.98      0.98      2100\n",
      "         1.0       0.98      0.97      0.98      2099\n",
      "\n",
      "    accuracy                           0.98      4199\n",
      "   macro avg       0.98      0.98      0.98      4199\n",
      "weighted avg       0.98      0.98      0.98      4199\n",
      "\n"
     ]
    }
   ],
   "source": [
    "randm_m7.print_report(model_accu_7, model_precision_7, model_recall_7, model_F1_7, model_cl_report_7)#type: ignore"
   ]
  },
  {
   "cell_type": "code",
   "execution_count": 121,
   "metadata": {},
   "outputs": [
    {
     "data": {
      "image/png": "[encoded data removed]",
      "text/plain": [
       "<Figure size 800x500 with 2 Axes>"
      ]
     },
     "metadata": {},
     "output_type": "display_data"
    }
   ],
   "source": [
    "randm_m7.draw_conf(model_con_mat_7, 'Random Forest', 'SMOTE_TOMEK')"
   ]
  },
  {
   "cell_type": "markdown",
   "metadata": {},
   "source": [
    "XGboost"
   ]
  },
  {
   "cell_type": "code",
   "execution_count": 122,
   "metadata": {},
   "outputs": [],
   "source": [
    "model_xgboost = xgb.XGBClassifier()\n",
    "Model8 = Model(model_xgboost, X_train, X_test, y_train, y_test)"
   ]
  },
  {
   "cell_type": "code",
   "execution_count": 123,
   "metadata": {},
   "outputs": [],
   "source": [
    "Model8.model_fit(X_train, y_train)"
   ]
  },
  {
   "cell_type": "code",
   "execution_count": 124,
   "metadata": {},
   "outputs": [],
   "source": [
    "predict_xgboost = Model8.model_pred(X_test)\n",
    "accu_xgboost, con_mat_xgboost, cl_report_xgboost, recall_xgboost, precision_xgboost, F1_score_xgboost = Model8.model_report(predict_xgboost, y_test)"
   ]
  },
  {
   "cell_type": "code",
   "execution_count": 125,
   "metadata": {},
   "outputs": [],
   "source": [
    "xgboost_m8 = ReportModel(con_mat_xgboost, 'XGBoost', 'Original', accu_xgboost, precision_xgboost, recall_xgboost, F1_score_xgboost, cl_report_xgboost)"
   ]
  },
  {
   "cell_type": "code",
   "execution_count": 126,
   "metadata": {},
   "outputs": [
    {
     "name": "stdout",
     "output_type": "stream",
     "text": [
      "accuracy is: 0.9776709034695981\n",
      "Precision: 0.9776062713026552\n",
      "Recall: 0.9776709034695981\n",
      "F1_Score: 0.9776062745420292\n",
      "classification:\n",
      "               precision    recall  f1-score   support\n",
      "\n",
      "         0.0       0.97      0.95      0.96       810\n",
      "         1.0       0.98      0.99      0.98      2101\n",
      "\n",
      "    accuracy                           0.98      2911\n",
      "   macro avg       0.97      0.97      0.97      2911\n",
      "weighted avg       0.98      0.98      0.98      2911\n",
      "\n"
     ]
    }
   ],
   "source": [
    "xgboost_m8.print_report(accu_xgboost, precision_xgboost, recall_xgboost, F1_score_xgboost, cl_report_xgboost)#type: ignore"
   ]
  },
  {
   "cell_type": "code",
   "execution_count": 127,
   "metadata": {},
   "outputs": [
    {
     "data": {
      "image/png": "[encoded data removed]",
      "text/plain": [
       "<Figure size 800x500 with 2 Axes>"
      ]
     },
     "metadata": {},
     "output_type": "display_data"
    }
   ],
   "source": [
    "xgboost_m8.draw_conf(con_mat_xgboost, 'XGBoost', 'Original')"
   ]
  }
 ],
 "metadata": {
  "kernelspec": {
   "display_name": ".venv",
   "language": "python",
   "name": "python3"
  },
  "language_info": {
   "codemirror_mode": {
    "name": "ipython",
    "version": 3
   },
   "file_extension": ".py",
   "mimetype": "text/x-python",
   "name": "python",
   "nbconvert_exporter": "python",
   "pygments_lexer": "ipython3",
   "version": "3.11.4"
  }
 },
 "nbformat": 4,
 "nbformat_minor": 2
}

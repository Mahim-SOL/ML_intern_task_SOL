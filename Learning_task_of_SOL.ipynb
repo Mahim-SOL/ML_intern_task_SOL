{
 "cells": [
  {
   "cell_type": "code",
   "execution_count": 104,
   "metadata": {},
   "outputs": [],
   "source": [
    "import numpy as np\n",
    "import pandas as pd\n",
    "from sklearn.decomposition import PCA\n",
    "import matplotlib.pyplot as plt\n",
    "import seaborn as sns\n",
    "from numpy import dtype\n",
    "from sklearn.linear_model import LogisticRegression\n",
    "from sklearn.ensemble import RandomForestClassifier\n",
    "from sklearn.tree import DecisionTreeClassifier\n",
    "from sklearn.svm import LinearSVC, SVC\n",
    "from sklearn.neighbors import KNeighborsClassifier\n",
    "from sklearn.model_selection import train_test_split\n",
    "from  sklearn.metrics import accuracy_score,confusion_matrix, classification_report, recall_score, precision_score, f1_score\n",
    "from imblearn.over_sampling import SMOTE\n",
    "from imblearn.under_sampling import TomekLinks\n",
    "from imblearn.combine import SMOTETomek"
   ]
  },
  {
   "cell_type": "code",
   "execution_count": 2,
   "metadata": {},
   "outputs": [],
   "source": [
    "df_test = pd.read_csv(\"M:/SOL/ML_intern_task/Dataset/mitbih_test.csv\")\n",
    "df_train = pd.read_csv(\"M:/SOL/ML_intern_task/Dataset/mitbih_train.csv\")\n",
    "df_abn = pd.read_csv(\"M:/SOL/ML_intern_task/Dataset/ptbdb_abnormal.csv\")\n",
    "df_n = pd.read_csv(\"M:/SOL/ML_intern_task/Dataset/ptbdb_normal.csv\")"
   ]
  },
  {
   "cell_type": "markdown",
   "metadata": {},
   "source": [
    "# Perform EDA"
   ]
  },
  {
   "cell_type": "markdown",
   "metadata": {},
   "source": [
    "Shape of datasets"
   ]
  },
  {
   "cell_type": "code",
   "execution_count": 3,
   "metadata": {},
   "outputs": [
    {
     "name": "stdout",
     "output_type": "stream",
     "text": [
      "(87553, 188)\n",
      "(21891, 188)\n",
      "(10505, 188)\n",
      "(4045, 188)\n"
     ]
    }
   ],
   "source": [
    "print(df_train.shape)\n",
    "print(df_test.shape)\n",
    "print(df_abn.shape)\n",
    "print(df_n.shape)"
   ]
  },
  {
   "cell_type": "code",
   "execution_count": null,
   "metadata": {},
   "outputs": [],
   "source": [
    "df_train.describe()"
   ]
  },
  {
   "cell_type": "code",
   "execution_count": null,
   "metadata": {},
   "outputs": [],
   "source": [
    "df_test.describe()"
   ]
  },
  {
   "cell_type": "markdown",
   "metadata": {},
   "source": [
    "copied datsets to another datframe 👇"
   ]
  },
  {
   "cell_type": "code",
   "execution_count": 4,
   "metadata": {},
   "outputs": [],
   "source": [
    "df1 = df_train\n",
    "df2 = df_test\n",
    "df3 = df_abn\n",
    "df4 = df_n"
   ]
  },
  {
   "cell_type": "markdown",
   "metadata": {},
   "source": [
    "Giving name to the columns"
   ]
  },
  {
   "cell_type": "code",
   "execution_count": 7,
   "metadata": {},
   "outputs": [
    {
     "name": "stdout",
     "output_type": "stream",
     "text": [
      "87553 188\n"
     ]
    }
   ],
   "source": [
    "# Giving name to the columns\n",
    "\n",
    "#df_train, df_test, df_abn, df_n\n",
    "#m,n = df_train.shape\n",
    "#m,n = df_test.shape\n",
    "m,n = df1.shape\n",
    "print(m,n)\n",
    "col_name = []\n",
    "for i in range(n):\n",
    "    if i == n-1:\n",
    "        col_name.append('target')\n",
    "    else:\n",
    "        col_name.append('feature'+str(i))\n",
    "#df_train.columns = col_name\n",
    "#df_test.columns = col_name\n",
    "df1.columns = col_name"
   ]
  },
  {
   "cell_type": "code",
   "execution_count": null,
   "metadata": {},
   "outputs": [],
   "source": [
    "df_train.corr()\n",
    "#df_test\n",
    "#df1"
   ]
  },
  {
   "cell_type": "code",
   "execution_count": null,
   "metadata": {},
   "outputs": [],
   "source": [
    "df1.iloc[500:550,130:145]"
   ]
  },
  {
   "cell_type": "code",
   "execution_count": 9,
   "metadata": {},
   "outputs": [
    {
     "data": {
      "text/plain": [
       "Index(['feature0', 'feature1', 'feature2', 'feature3', 'feature4', 'feature5',\n",
       "       'feature6', 'feature7', 'feature8', 'feature9',\n",
       "       ...\n",
       "       'feature178', 'feature179', 'feature180', 'feature181', 'feature182',\n",
       "       'feature183', 'feature184', 'feature185', 'feature186', 'target'],\n",
       "      dtype='object', length=188)"
      ]
     },
     "execution_count": 9,
     "metadata": {},
     "output_type": "execute_result"
    }
   ],
   "source": [
    "df1.columns"
   ]
  },
  {
   "cell_type": "code",
   "execution_count": 10,
   "metadata": {},
   "outputs": [
    {
     "name": "stdout",
     "output_type": "stream",
     "text": [
      "<class 'pandas.core.frame.DataFrame'>\n",
      "RangeIndex: 87553 entries, 0 to 87552\n",
      "Columns: 188 entries, feature0 to target\n",
      "dtypes: float64(188)\n",
      "memory usage: 125.6 MB\n"
     ]
    }
   ],
   "source": [
    "df_train.info()"
   ]
  },
  {
   "cell_type": "code",
   "execution_count": null,
   "metadata": {},
   "outputs": [],
   "source": [
    "#if there are any NULL values in the dataset\n",
    "df_train.isnull().sum().plot().legend().set_visible(False)"
   ]
  },
  {
   "cell_type": "code",
   "execution_count": null,
   "metadata": {},
   "outputs": [],
   "source": [
    "df_test.isnull().sum().plot().legend().set_visible(False)"
   ]
  },
  {
   "cell_type": "code",
   "execution_count": null,
   "metadata": {},
   "outputs": [],
   "source": [
    "corr = df_train.corr(method='pearson')\n",
    "plt.figure(figsize=(15, 15))\n",
    "sns.heatmap(corr, annot=False, cmap='coolwarm')\n",
    "plt.show()"
   ]
  },
  {
   "cell_type": "code",
   "execution_count": null,
   "metadata": {},
   "outputs": [],
   "source": [
    "sns.catplot(data=df1, x=\"feature132\", y=\"target\", kind='bar')"
   ]
  },
  {
   "cell_type": "code",
   "execution_count": null,
   "metadata": {},
   "outputs": [],
   "source": [
    "sns.kdeplot(data = df1, x = 'feature69', hue = 'target')"
   ]
  },
  {
   "cell_type": "code",
   "execution_count": null,
   "metadata": {},
   "outputs": [],
   "source": [
    "subset_features = ['feature45', 'feature135', 'feature185']  \n",
    "n = len(subset_features)\n",
    "cols = 2\n",
    "rows = (n//cols)+(n%cols>0)\n",
    "\n",
    "plt.figure(figsize=(10, 4 * rows))\n",
    "\n",
    "for i, feature in enumerate(subset_features, 1):\n",
    "    plt.subplot(rows, cols, i)  \n",
    "    sns.histplot(df1[feature], kde=True, bins=36) #type: ignore\n",
    "    plt.title(f'Histogram of {feature}')\n",
    "    plt.xlabel(feature)\n",
    "    plt.ylabel('Frequency')\n",
    "\n",
    "plt.tight_layout()  \n",
    "plt.show()"
   ]
  },
  {
   "cell_type": "code",
   "execution_count": null,
   "metadata": {},
   "outputs": [],
   "source": [
    "target_col = 'target'\n",
    "plt.figure(figsize=(7, 4))\n",
    "sns.histplot(df1[\"target\"], kde=True, bins=30)  #type: ignore\n",
    "plt.title(f'Histogram of {target_col} column')\n",
    "plt.xlabel(target_col)\n",
    "plt.ylabel('Samples per target')\n",
    "plt.show()"
   ]
  },
  {
   "cell_type": "code",
   "execution_count": null,
   "metadata": {},
   "outputs": [],
   "source": [
    "sns.relplot(data=df1, x = \"feature109\", y = \"target\", kind=\"line\")"
   ]
  },
  {
   "cell_type": "code",
   "execution_count": 22,
   "metadata": {},
   "outputs": [
    {
     "data": {
      "text/plain": [
       "array([0., 1., 2., 3., 4.])"
      ]
     },
     "execution_count": 22,
     "metadata": {},
     "output_type": "execute_result"
    }
   ],
   "source": [
    "#print(df1.iloc[:,:-1].shape)\n",
    "X_df1 = df1.iloc[:,:-1]\n",
    "y_df1 = df1.iloc[:,-1:]\n",
    "print(X_df1.shape, y_df1.shape)\n",
    "y_df1['target'].unique()"
   ]
  },
  {
   "cell_type": "code",
   "execution_count": 24,
   "metadata": {},
   "outputs": [],
   "source": [
    "df1_cats = {}\n",
    "\n",
    "categories = df1['target'].unique()\n",
    "for category in categories:\n",
    "    df1_cats[category] = df_train[df_train['target'] == category]\n",
    "\n",
    "df1_cats.keys()"
   ]
  },
  {
   "cell_type": "code",
   "execution_count": 26,
   "metadata": {},
   "outputs": [
    {
     "data": {
      "text/plain": [
       "(5, dict_keys([0.0, 1.0, 2.0, 3.0, 4.0]))"
      ]
     },
     "execution_count": 26,
     "metadata": {},
     "output_type": "execute_result"
    }
   ],
   "source": [
    "k_df1 = len(df1_cats)\n",
    "k_df1, df1_cats.keys()"
   ]
  },
  {
   "cell_type": "code",
   "execution_count": 27,
   "metadata": {},
   "outputs": [],
   "source": [
    "df1_cats_1 = df1_cats[0]\n",
    "df1_cats_2 = df1_cats[1]\n",
    "df1_cats_3 = df1_cats[2]\n",
    "df1_cats_4 = df1_cats[3]\n",
    "df1_cats_5 = df1_cats[4]\n",
    "\n",
    "df1_cats_1.shape, df1_cats_2.shape, df1_cats_3.shape, df1_cats_4.shape, df1_cats_5.shape"
   ]
  },
  {
   "cell_type": "code",
   "execution_count": 29,
   "metadata": {},
   "outputs": [],
   "source": [
    "df1_cats_concat = pd.concat([df1_cats_1, df1_cats_2, df1_cats_3, df1_cats_4, df1_cats_5], axis=0)"
   ]
  },
  {
   "cell_type": "code",
   "execution_count": 40,
   "metadata": {},
   "outputs": [
    {
     "data": {
      "text/plain": [
       "array([0.05413105, 0.        , 0.10798122, ..., 0.6356073 , 0.65864664,\n",
       "       0.6306991 ])"
      ]
     },
     "execution_count": 40,
     "metadata": {},
     "output_type": "execute_result"
    }
   ],
   "source": [
    "df1_cats_concat['feature131'].unique() "
   ]
  },
  {
   "cell_type": "code",
   "execution_count": null,
   "metadata": {},
   "outputs": [],
   "source": [
    "df1_cats_concat.describe()"
   ]
  },
  {
   "cell_type": "code",
   "execution_count": null,
   "metadata": {},
   "outputs": [],
   "source": [
    "\n",
    "target = df1.columns[-1]\n",
    "\n",
    "plt.figure(figsize=(15,8))\n",
    "\n",
    "for feature in X_df1.columns:  \n",
    "    plt.scatter(df1[feature], df1[target],\n",
    "                label = feature)\n",
    "    \n",
    "plt.xlabel(\"Feature Value\")\n",
    "plt.ylabel(\"Target Value\")\n",
    "plt.title(\"Target vs Features\")\n",
    "plt.legend().set_visible(False)  \n",
    "plt.show()"
   ]
  },
  {
   "cell_type": "markdown",
   "metadata": {},
   "source": [
    "### MIT_BIH Train Data "
   ]
  },
  {
   "cell_type": "code",
   "execution_count": 13,
   "metadata": {},
   "outputs": [
    {
     "data": {
      "text/plain": [
       "(array([0., 1., 2., 3., 4.]), (87553, 188))"
      ]
     },
     "execution_count": 13,
     "metadata": {},
     "output_type": "execute_result"
    }
   ],
   "source": [
    "df_train_unique = df_train.iloc[:,-1].unique()\n",
    "df_train_unique, df_train.shape"
   ]
  },
  {
   "cell_type": "code",
   "execution_count": null,
   "metadata": {},
   "outputs": [],
   "source": [
    "df_train.isnull().sum() "
   ]
  },
  {
   "cell_type": "code",
   "execution_count": null,
   "metadata": {},
   "outputs": [],
   "source": [
    "df_train.describe()#.iloc[:,80:100]"
   ]
  },
  {
   "cell_type": "code",
   "execution_count": 15,
   "metadata": {},
   "outputs": [],
   "source": [
    "stats = df_train.describe()\n",
    "spc_stats = stats.loc[['mean', 'std','25%','50%','75%']]\n",
    "#print(spc_stats)"
   ]
  },
  {
   "cell_type": "code",
   "execution_count": null,
   "metadata": {},
   "outputs": [],
   "source": [
    "spc_stats.plot().legend().set_visible(False)"
   ]
  },
  {
   "cell_type": "markdown",
   "metadata": {},
   "source": [
    "### MIT_BIH Test Data "
   ]
  },
  {
   "cell_type": "code",
   "execution_count": null,
   "metadata": {},
   "outputs": [],
   "source": [
    "df_test"
   ]
  },
  {
   "cell_type": "code",
   "execution_count": null,
   "metadata": {},
   "outputs": [],
   "source": [
    "df_test.isnull().sum()"
   ]
  },
  {
   "cell_type": "code",
   "execution_count": null,
   "metadata": {},
   "outputs": [],
   "source": [
    "df_test.describe()"
   ]
  },
  {
   "cell_type": "code",
   "execution_count": 14,
   "metadata": {},
   "outputs": [
    {
     "data": {
      "text/plain": [
       "(array([0., 1., 2., 3., 4.]), (21891, 188))"
      ]
     },
     "execution_count": 14,
     "metadata": {},
     "output_type": "execute_result"
    }
   ],
   "source": [
    "df_test_unique = df_test.iloc[:,-1].unique()\n",
    "df_test_unique, df_test.shape"
   ]
  },
  {
   "cell_type": "code",
   "execution_count": 23,
   "metadata": {},
   "outputs": [],
   "source": [
    "stats2 = df_test.describe()\n",
    "spc_stats2 = stats2.loc[['mean', 'std','25%','50%','75%']]"
   ]
  },
  {
   "cell_type": "code",
   "execution_count": null,
   "metadata": {},
   "outputs": [],
   "source": [
    "spc_stats2.plot().legend().set_visible(False)"
   ]
  },
  {
   "cell_type": "markdown",
   "metadata": {},
   "source": [
    "### PTB Diagnosotic abnormal ecg data"
   ]
  },
  {
   "cell_type": "code",
   "execution_count": 25,
   "metadata": {},
   "outputs": [
    {
     "name": "stdout",
     "output_type": "stream",
     "text": [
      "<class 'pandas.core.frame.DataFrame'>\n",
      "RangeIndex: 10505 entries, 0 to 10504\n",
      "Columns: 188 entries, 9.322328567504882812e-01 to 1.000000000000000000e+00.1\n",
      "dtypes: float64(188)\n",
      "memory usage: 15.1 MB\n"
     ]
    }
   ],
   "source": [
    "df_abn.info()"
   ]
  },
  {
   "cell_type": "code",
   "execution_count": null,
   "metadata": {},
   "outputs": [],
   "source": [
    "df_abn"
   ]
  },
  {
   "cell_type": "code",
   "execution_count": null,
   "metadata": {},
   "outputs": [],
   "source": [
    "df_abn.describe()"
   ]
  },
  {
   "cell_type": "code",
   "execution_count": null,
   "metadata": {},
   "outputs": [],
   "source": [
    "df_abn.isnull().sum()"
   ]
  },
  {
   "cell_type": "code",
   "execution_count": 23,
   "metadata": {},
   "outputs": [],
   "source": [
    "spc_stats3 = df_abn.describe().loc[['mean', 'std','25%','50%','75%']]"
   ]
  },
  {
   "cell_type": "code",
   "execution_count": null,
   "metadata": {},
   "outputs": [],
   "source": [
    "spc_stats3.plot().legend().set_visible(False)"
   ]
  },
  {
   "cell_type": "markdown",
   "metadata": {},
   "source": [
    "### PTB Diagnosotic normal ecg data"
   ]
  },
  {
   "cell_type": "code",
   "execution_count": null,
   "metadata": {},
   "outputs": [],
   "source": [
    "df_n.head(5)\n",
    "#df_n"
   ]
  },
  {
   "cell_type": "code",
   "execution_count": null,
   "metadata": {},
   "outputs": [],
   "source": [
    "df_n.describe()"
   ]
  },
  {
   "cell_type": "code",
   "execution_count": null,
   "metadata": {},
   "outputs": [],
   "source": [
    "df_n.isnull().sum()"
   ]
  },
  {
   "cell_type": "code",
   "execution_count": 28,
   "metadata": {},
   "outputs": [],
   "source": [
    "spc_stats4 = df_n.describe().loc[['mean', 'std','25%','50%','75%']]"
   ]
  },
  {
   "cell_type": "code",
   "execution_count": null,
   "metadata": {},
   "outputs": [],
   "source": [
    "spc_stats4.plot().legend().set_visible(False)"
   ]
  },
  {
   "cell_type": "code",
   "execution_count": 46,
   "metadata": {},
   "outputs": [],
   "source": [
    "#sns.boxplot(x=df_train.iloc[180]) "
   ]
  },
  {
   "cell_type": "markdown",
   "metadata": {},
   "source": [
    "# Finding Outliers "
   ]
  },
  {
   "cell_type": "code",
   "execution_count": 29,
   "metadata": {},
   "outputs": [],
   "source": [
    "from scipy import stats"
   ]
  },
  {
   "cell_type": "markdown",
   "metadata": {},
   "source": [
    "Z-Score"
   ]
  },
  {
   "cell_type": "code",
   "execution_count": 30,
   "metadata": {},
   "outputs": [],
   "source": [
    "z_scores = stats.zscore(df_train, axis = 1)\n",
    "outliers_mask = (np.abs(z_scores)>3).any(axis = 1)\n",
    "outliers = df_train[outliers_mask]"
   ]
  },
  {
   "cell_type": "code",
   "execution_count": null,
   "metadata": {},
   "outputs": [],
   "source": [
    "outliers.describe()"
   ]
  },
  {
   "cell_type": "code",
   "execution_count": null,
   "metadata": {},
   "outputs": [],
   "source": [
    "#print(outliers.shape)\n",
    "#outliers.iloc[:,:].plot().legend().set_visible(False)"
   ]
  },
  {
   "cell_type": "markdown",
   "metadata": {},
   "source": [
    "Interquartile Range (IQR)"
   ]
  },
  {
   "cell_type": "code",
   "execution_count": null,
   "metadata": {},
   "outputs": [],
   "source": [
    "Q1 = df_train.quantile(0.25)\n",
    "Q3 = df_train.quantile(0.75)\n",
    "IQR = Q3 - Q1\n",
    "\n",
    "outliers_bool = (df_train < (Q1 - 1.5 * IQR)) | (df_train > (Q3 + 1.5 * IQR))\n",
    "\n",
    "outliers_count_per_column = outliers_bool.sum()\n",
    "count = 0\n",
    "for i in range(len(outliers_count_per_column)):\n",
    "    if outliers_count_per_column.iloc[i] > 0:\n",
    "        count+=1\n",
    "        print(outliers_count_per_column.iloc[i])\n",
    "print(f\"No. of Columns with ouliers: {count}\")"
   ]
  },
  {
   "cell_type": "code",
   "execution_count": null,
   "metadata": {},
   "outputs": [],
   "source": [
    "rows_with_outliers = outliers_bool.any(axis=1)\n",
    "outliers_2 = df_train[rows_with_outliers]\n",
    "outliers_2\n"
   ]
  },
  {
   "cell_type": "code",
   "execution_count": null,
   "metadata": {},
   "outputs": [],
   "source": [
    "outliers_2.describe()"
   ]
  },
  {
   "cell_type": "code",
   "execution_count": 111,
   "metadata": {},
   "outputs": [],
   "source": [
    "#outliers_2.plot().legend().set_visible(False)"
   ]
  },
  {
   "cell_type": "markdown",
   "metadata": {},
   "source": [
    "The df_train is labeled because the last column of dftrain has 5 unique values. And about unique values in this case that's not so important"
   ]
  },
  {
   "cell_type": "markdown",
   "metadata": {},
   "source": [
    "# Apply Supervised learning"
   ]
  },
  {
   "cell_type": "markdown",
   "metadata": {},
   "source": [
    "## MIT_BIH"
   ]
  },
  {
   "cell_type": "code",
   "execution_count": 12,
   "metadata": {},
   "outputs": [
    {
     "name": "stdout",
     "output_type": "stream",
     "text": [
      "(87553, 188) (87553, 188)\n"
     ]
    },
    {
     "data": {
      "text/html": [
       "<div>\n",
       "<style scoped>\n",
       "    .dataframe tbody tr th:only-of-type {\n",
       "        vertical-align: middle;\n",
       "    }\n",
       "\n",
       "    .dataframe tbody tr th {\n",
       "        vertical-align: top;\n",
       "    }\n",
       "\n",
       "    .dataframe thead th {\n",
       "        text-align: right;\n",
       "    }\n",
       "</style>\n",
       "<table border=\"1\" class=\"dataframe\">\n",
       "  <thead>\n",
       "    <tr style=\"text-align: right;\">\n",
       "      <th></th>\n",
       "      <th>feature0</th>\n",
       "      <th>feature1</th>\n",
       "      <th>feature2</th>\n",
       "      <th>feature3</th>\n",
       "      <th>feature4</th>\n",
       "      <th>feature5</th>\n",
       "      <th>feature6</th>\n",
       "      <th>feature7</th>\n",
       "      <th>feature8</th>\n",
       "      <th>feature9</th>\n",
       "      <th>...</th>\n",
       "      <th>feature178</th>\n",
       "      <th>feature179</th>\n",
       "      <th>feature180</th>\n",
       "      <th>feature181</th>\n",
       "      <th>feature182</th>\n",
       "      <th>feature183</th>\n",
       "      <th>feature184</th>\n",
       "      <th>feature185</th>\n",
       "      <th>feature186</th>\n",
       "      <th>target</th>\n",
       "    </tr>\n",
       "  </thead>\n",
       "  <tbody>\n",
       "    <tr>\n",
       "      <th>0</th>\n",
       "      <td>0.960114</td>\n",
       "      <td>0.863248</td>\n",
       "      <td>0.461538</td>\n",
       "      <td>0.196581</td>\n",
       "      <td>0.094017</td>\n",
       "      <td>0.125356</td>\n",
       "      <td>0.099715</td>\n",
       "      <td>0.088319</td>\n",
       "      <td>0.074074</td>\n",
       "      <td>0.082621</td>\n",
       "      <td>...</td>\n",
       "      <td>0.0</td>\n",
       "      <td>0.0</td>\n",
       "      <td>0.0</td>\n",
       "      <td>0.0</td>\n",
       "      <td>0.0</td>\n",
       "      <td>0.0</td>\n",
       "      <td>0.0</td>\n",
       "      <td>0.0</td>\n",
       "      <td>0.0</td>\n",
       "      <td>0.0</td>\n",
       "    </tr>\n",
       "    <tr>\n",
       "      <th>1</th>\n",
       "      <td>1.000000</td>\n",
       "      <td>0.659459</td>\n",
       "      <td>0.186486</td>\n",
       "      <td>0.070270</td>\n",
       "      <td>0.070270</td>\n",
       "      <td>0.059459</td>\n",
       "      <td>0.056757</td>\n",
       "      <td>0.043243</td>\n",
       "      <td>0.054054</td>\n",
       "      <td>0.045946</td>\n",
       "      <td>...</td>\n",
       "      <td>0.0</td>\n",
       "      <td>0.0</td>\n",
       "      <td>0.0</td>\n",
       "      <td>0.0</td>\n",
       "      <td>0.0</td>\n",
       "      <td>0.0</td>\n",
       "      <td>0.0</td>\n",
       "      <td>0.0</td>\n",
       "      <td>0.0</td>\n",
       "      <td>0.0</td>\n",
       "    </tr>\n",
       "    <tr>\n",
       "      <th>2</th>\n",
       "      <td>0.925414</td>\n",
       "      <td>0.665746</td>\n",
       "      <td>0.541436</td>\n",
       "      <td>0.276243</td>\n",
       "      <td>0.196133</td>\n",
       "      <td>0.077348</td>\n",
       "      <td>0.071823</td>\n",
       "      <td>0.060773</td>\n",
       "      <td>0.066298</td>\n",
       "      <td>0.058011</td>\n",
       "      <td>...</td>\n",
       "      <td>0.0</td>\n",
       "      <td>0.0</td>\n",
       "      <td>0.0</td>\n",
       "      <td>0.0</td>\n",
       "      <td>0.0</td>\n",
       "      <td>0.0</td>\n",
       "      <td>0.0</td>\n",
       "      <td>0.0</td>\n",
       "      <td>0.0</td>\n",
       "      <td>0.0</td>\n",
       "    </tr>\n",
       "    <tr>\n",
       "      <th>3</th>\n",
       "      <td>0.967136</td>\n",
       "      <td>1.000000</td>\n",
       "      <td>0.830986</td>\n",
       "      <td>0.586854</td>\n",
       "      <td>0.356808</td>\n",
       "      <td>0.248826</td>\n",
       "      <td>0.145540</td>\n",
       "      <td>0.089202</td>\n",
       "      <td>0.117371</td>\n",
       "      <td>0.150235</td>\n",
       "      <td>...</td>\n",
       "      <td>0.0</td>\n",
       "      <td>0.0</td>\n",
       "      <td>0.0</td>\n",
       "      <td>0.0</td>\n",
       "      <td>0.0</td>\n",
       "      <td>0.0</td>\n",
       "      <td>0.0</td>\n",
       "      <td>0.0</td>\n",
       "      <td>0.0</td>\n",
       "      <td>0.0</td>\n",
       "    </tr>\n",
       "    <tr>\n",
       "      <th>4</th>\n",
       "      <td>0.927461</td>\n",
       "      <td>1.000000</td>\n",
       "      <td>0.626943</td>\n",
       "      <td>0.193437</td>\n",
       "      <td>0.094991</td>\n",
       "      <td>0.072539</td>\n",
       "      <td>0.043178</td>\n",
       "      <td>0.053541</td>\n",
       "      <td>0.093264</td>\n",
       "      <td>0.189983</td>\n",
       "      <td>...</td>\n",
       "      <td>0.0</td>\n",
       "      <td>0.0</td>\n",
       "      <td>0.0</td>\n",
       "      <td>0.0</td>\n",
       "      <td>0.0</td>\n",
       "      <td>0.0</td>\n",
       "      <td>0.0</td>\n",
       "      <td>0.0</td>\n",
       "      <td>0.0</td>\n",
       "      <td>0.0</td>\n",
       "    </tr>\n",
       "    <tr>\n",
       "      <th>...</th>\n",
       "      <td>...</td>\n",
       "      <td>...</td>\n",
       "      <td>...</td>\n",
       "      <td>...</td>\n",
       "      <td>...</td>\n",
       "      <td>...</td>\n",
       "      <td>...</td>\n",
       "      <td>...</td>\n",
       "      <td>...</td>\n",
       "      <td>...</td>\n",
       "      <td>...</td>\n",
       "      <td>...</td>\n",
       "      <td>...</td>\n",
       "      <td>...</td>\n",
       "      <td>...</td>\n",
       "      <td>...</td>\n",
       "      <td>...</td>\n",
       "      <td>...</td>\n",
       "      <td>...</td>\n",
       "      <td>...</td>\n",
       "      <td>...</td>\n",
       "    </tr>\n",
       "    <tr>\n",
       "      <th>87548</th>\n",
       "      <td>0.807018</td>\n",
       "      <td>0.494737</td>\n",
       "      <td>0.536842</td>\n",
       "      <td>0.529825</td>\n",
       "      <td>0.491228</td>\n",
       "      <td>0.484211</td>\n",
       "      <td>0.456140</td>\n",
       "      <td>0.396491</td>\n",
       "      <td>0.284211</td>\n",
       "      <td>0.136842</td>\n",
       "      <td>...</td>\n",
       "      <td>0.0</td>\n",
       "      <td>0.0</td>\n",
       "      <td>0.0</td>\n",
       "      <td>0.0</td>\n",
       "      <td>0.0</td>\n",
       "      <td>0.0</td>\n",
       "      <td>0.0</td>\n",
       "      <td>0.0</td>\n",
       "      <td>0.0</td>\n",
       "      <td>4.0</td>\n",
       "    </tr>\n",
       "    <tr>\n",
       "      <th>87549</th>\n",
       "      <td>0.718333</td>\n",
       "      <td>0.605000</td>\n",
       "      <td>0.486667</td>\n",
       "      <td>0.361667</td>\n",
       "      <td>0.231667</td>\n",
       "      <td>0.120000</td>\n",
       "      <td>0.051667</td>\n",
       "      <td>0.001667</td>\n",
       "      <td>0.000000</td>\n",
       "      <td>0.013333</td>\n",
       "      <td>...</td>\n",
       "      <td>0.0</td>\n",
       "      <td>0.0</td>\n",
       "      <td>0.0</td>\n",
       "      <td>0.0</td>\n",
       "      <td>0.0</td>\n",
       "      <td>0.0</td>\n",
       "      <td>0.0</td>\n",
       "      <td>0.0</td>\n",
       "      <td>0.0</td>\n",
       "      <td>4.0</td>\n",
       "    </tr>\n",
       "    <tr>\n",
       "      <th>87550</th>\n",
       "      <td>0.906122</td>\n",
       "      <td>0.624490</td>\n",
       "      <td>0.595918</td>\n",
       "      <td>0.575510</td>\n",
       "      <td>0.530612</td>\n",
       "      <td>0.481633</td>\n",
       "      <td>0.444898</td>\n",
       "      <td>0.387755</td>\n",
       "      <td>0.322449</td>\n",
       "      <td>0.191837</td>\n",
       "      <td>...</td>\n",
       "      <td>0.0</td>\n",
       "      <td>0.0</td>\n",
       "      <td>0.0</td>\n",
       "      <td>0.0</td>\n",
       "      <td>0.0</td>\n",
       "      <td>0.0</td>\n",
       "      <td>0.0</td>\n",
       "      <td>0.0</td>\n",
       "      <td>0.0</td>\n",
       "      <td>4.0</td>\n",
       "    </tr>\n",
       "    <tr>\n",
       "      <th>87551</th>\n",
       "      <td>0.858228</td>\n",
       "      <td>0.645570</td>\n",
       "      <td>0.845570</td>\n",
       "      <td>0.248101</td>\n",
       "      <td>0.167089</td>\n",
       "      <td>0.131646</td>\n",
       "      <td>0.121519</td>\n",
       "      <td>0.121519</td>\n",
       "      <td>0.118987</td>\n",
       "      <td>0.103797</td>\n",
       "      <td>...</td>\n",
       "      <td>0.0</td>\n",
       "      <td>0.0</td>\n",
       "      <td>0.0</td>\n",
       "      <td>0.0</td>\n",
       "      <td>0.0</td>\n",
       "      <td>0.0</td>\n",
       "      <td>0.0</td>\n",
       "      <td>0.0</td>\n",
       "      <td>0.0</td>\n",
       "      <td>4.0</td>\n",
       "    </tr>\n",
       "    <tr>\n",
       "      <th>87552</th>\n",
       "      <td>0.901506</td>\n",
       "      <td>0.845886</td>\n",
       "      <td>0.800695</td>\n",
       "      <td>0.748552</td>\n",
       "      <td>0.687138</td>\n",
       "      <td>0.599073</td>\n",
       "      <td>0.512167</td>\n",
       "      <td>0.427578</td>\n",
       "      <td>0.395133</td>\n",
       "      <td>0.402086</td>\n",
       "      <td>...</td>\n",
       "      <td>0.0</td>\n",
       "      <td>0.0</td>\n",
       "      <td>0.0</td>\n",
       "      <td>0.0</td>\n",
       "      <td>0.0</td>\n",
       "      <td>0.0</td>\n",
       "      <td>0.0</td>\n",
       "      <td>0.0</td>\n",
       "      <td>0.0</td>\n",
       "      <td>4.0</td>\n",
       "    </tr>\n",
       "  </tbody>\n",
       "</table>\n",
       "<p>87553 rows × 188 columns</p>\n",
       "</div>"
      ],
      "text/plain": [
       "       feature0  feature1  feature2  feature3  feature4  feature5  feature6  \\\n",
       "0      0.960114  0.863248  0.461538  0.196581  0.094017  0.125356  0.099715   \n",
       "1      1.000000  0.659459  0.186486  0.070270  0.070270  0.059459  0.056757   \n",
       "2      0.925414  0.665746  0.541436  0.276243  0.196133  0.077348  0.071823   \n",
       "3      0.967136  1.000000  0.830986  0.586854  0.356808  0.248826  0.145540   \n",
       "4      0.927461  1.000000  0.626943  0.193437  0.094991  0.072539  0.043178   \n",
       "...         ...       ...       ...       ...       ...       ...       ...   \n",
       "87548  0.807018  0.494737  0.536842  0.529825  0.491228  0.484211  0.456140   \n",
       "87549  0.718333  0.605000  0.486667  0.361667  0.231667  0.120000  0.051667   \n",
       "87550  0.906122  0.624490  0.595918  0.575510  0.530612  0.481633  0.444898   \n",
       "87551  0.858228  0.645570  0.845570  0.248101  0.167089  0.131646  0.121519   \n",
       "87552  0.901506  0.845886  0.800695  0.748552  0.687138  0.599073  0.512167   \n",
       "\n",
       "       feature7  feature8  feature9  ...  feature178  feature179  feature180  \\\n",
       "0      0.088319  0.074074  0.082621  ...         0.0         0.0         0.0   \n",
       "1      0.043243  0.054054  0.045946  ...         0.0         0.0         0.0   \n",
       "2      0.060773  0.066298  0.058011  ...         0.0         0.0         0.0   \n",
       "3      0.089202  0.117371  0.150235  ...         0.0         0.0         0.0   \n",
       "4      0.053541  0.093264  0.189983  ...         0.0         0.0         0.0   \n",
       "...         ...       ...       ...  ...         ...         ...         ...   \n",
       "87548  0.396491  0.284211  0.136842  ...         0.0         0.0         0.0   \n",
       "87549  0.001667  0.000000  0.013333  ...         0.0         0.0         0.0   \n",
       "87550  0.387755  0.322449  0.191837  ...         0.0         0.0         0.0   \n",
       "87551  0.121519  0.118987  0.103797  ...         0.0         0.0         0.0   \n",
       "87552  0.427578  0.395133  0.402086  ...         0.0         0.0         0.0   \n",
       "\n",
       "       feature181  feature182  feature183  feature184  feature185  feature186  \\\n",
       "0             0.0         0.0         0.0         0.0         0.0         0.0   \n",
       "1             0.0         0.0         0.0         0.0         0.0         0.0   \n",
       "2             0.0         0.0         0.0         0.0         0.0         0.0   \n",
       "3             0.0         0.0         0.0         0.0         0.0         0.0   \n",
       "4             0.0         0.0         0.0         0.0         0.0         0.0   \n",
       "...           ...         ...         ...         ...         ...         ...   \n",
       "87548         0.0         0.0         0.0         0.0         0.0         0.0   \n",
       "87549         0.0         0.0         0.0         0.0         0.0         0.0   \n",
       "87550         0.0         0.0         0.0         0.0         0.0         0.0   \n",
       "87551         0.0         0.0         0.0         0.0         0.0         0.0   \n",
       "87552         0.0         0.0         0.0         0.0         0.0         0.0   \n",
       "\n",
       "       target  \n",
       "0         0.0  \n",
       "1         0.0  \n",
       "2         0.0  \n",
       "3         0.0  \n",
       "4         0.0  \n",
       "...       ...  \n",
       "87548     4.0  \n",
       "87549     4.0  \n",
       "87550     4.0  \n",
       "87551     4.0  \n",
       "87552     4.0  \n",
       "\n",
       "[87553 rows x 188 columns]"
      ]
     },
     "execution_count": 12,
     "metadata": {},
     "output_type": "execute_result"
    }
   ],
   "source": [
    "print(df_train.shape, df1.shape)\n",
    "df_train"
   ]
  },
  {
   "cell_type": "code",
   "execution_count": 13,
   "metadata": {},
   "outputs": [],
   "source": [
    "X1  = df_train.iloc[:,:-1]\n",
    "y1 = df_train.iloc[:,-1]"
   ]
  },
  {
   "cell_type": "markdown",
   "metadata": {},
   "source": [
    "Sapmpling Class"
   ]
  },
  {
   "cell_type": "code",
   "execution_count": 62,
   "metadata": {},
   "outputs": [],
   "source": [
    "class Samplingdata:\n",
    "    def __init__(self, X, y):\n",
    "        self.X = X\n",
    "        self.y = y\n",
    "    def smote(self):\n",
    "        smote = SMOTE(random_state=42, k_neighbors=3, n_jobs=-1)\n",
    "        X_smote, y_smote = smote.fit_resample(self.X, self.y)#type: ignore\n",
    "        return X_smote, y_smote\n",
    "    def tomek(self):\n",
    "        tomek = TomekLinks()\n",
    "        X_tomek, y_tomek = tomek.fit_resample(self.X, self.y)#type: ignore\n",
    "        return X_tomek, y_tomek\n",
    "    def smote_tomek(self):\n",
    "        smt = SMOTETomek(random_state=42)\n",
    "        X_smt, y_smt = smt.fit_resample(self.X, self.y)#type: ignore\n",
    "        return X_smt, y_smt"
   ]
  },
  {
   "cell_type": "markdown",
   "metadata": {},
   "source": [
    "Model Class"
   ]
  },
  {
   "cell_type": "code",
   "execution_count": 85,
   "metadata": {},
   "outputs": [],
   "source": [
    "class Model:\n",
    "    def __init__ (self, model, X_train, X_test, y_train, y_test):\n",
    "        self.model = model\n",
    "        self.X_train = X_train\n",
    "        self.X_test = X_test\n",
    "        self.y_train = y_train\n",
    "        self.y_test = y_test\n",
    "    def model_fit_pred(self, X_train, X_test, y_train):\n",
    "        self.model.fit(X_train, y_train)\n",
    "        y_pred = self.model.predict(X_test)\n",
    "        return y_pred\n",
    "    def model_report(self, y_pred, y_test):\n",
    "        accuracy = accuracy_score(y_test, y_pred)\n",
    "        confusion = confusion_matrix(y_test, y_pred, normalize='true')\n",
    "        classification = classification_report(y_test, y_pred)\n",
    "        recall = recall_score(y_test, y_pred, average='weighted')\n",
    "        precision = precision_score(y_test, y_pred, average='weighted')\n",
    "        f1Score = f1_score(y_test, y_pred, average='weighted')\n",
    "        return accuracy, confusion, classification, recall, precision, f1Score\n",
    "    def model_pred(self, X_test):\n",
    "        y_pred = self.model.predict(X_test)\n",
    "        return y_pred\n",
    "        \n",
    "        "
   ]
  },
  {
   "cell_type": "code",
   "execution_count": 16,
   "metadata": {},
   "outputs": [],
   "source": [
    "X1_oversample, y1_oversample = Samplingdata(X1, y1).smote()"
   ]
  },
  {
   "cell_type": "code",
   "execution_count": 18,
   "metadata": {},
   "outputs": [],
   "source": [
    "X_train_smote, X_test_smote, y_train_smote, y_test_smote = train_test_split(X1_oversample, y1_oversample, test_size=0.2, random_state=42, stratify=y1_oversample)"
   ]
  },
  {
   "cell_type": "markdown",
   "metadata": {},
   "source": [
    "Logistic Regression"
   ]
  },
  {
   "cell_type": "code",
   "execution_count": 65,
   "metadata": {},
   "outputs": [],
   "source": [
    "model_logistic_reg = LogisticRegression(random_state=42, max_iter=100, multi_class='auto', solver='liblinear')"
   ]
  },
  {
   "cell_type": "code",
   "execution_count": 66,
   "metadata": {},
   "outputs": [],
   "source": [
    "MyModel1 = Model(model_logistic_reg, X_train_smote, X_test_smote, y_train_smote, y_test_smote)\n",
    "prediction = MyModel1.model_fit_pred(X_train_smote, X_test_smote, y_train_smote)\n",
    "model_accu, model_con_mat, model_cl_report, model_recall, model_precision, model_F1 = MyModel1.model_report(prediction, y_test_smote)"
   ]
  },
  {
   "cell_type": "code",
   "execution_count": 67,
   "metadata": {},
   "outputs": [
    {
     "name": "stdout",
     "output_type": "stream",
     "text": [
      "accuracy is: 0.7853180626466124\n",
      "Precision: 0.7867155138976931\n",
      "Recall: 0.7853180626466124\n",
      "F1_Score: 0.7851785591845489\n",
      "confusion_matrix:\n",
      " [[0.6302608  0.12501725 0.12812198 0.08624258 0.03035739]\n",
      " [0.21263971 0.72609356 0.03622188 0.01648958 0.00855526]\n",
      " [0.10218021 0.02525183 0.75831379 0.08313785 0.03111632]\n",
      " [0.05305644 0.0058645  0.0500207  0.8895405  0.00151787]\n",
      " [0.03118532 0.0046916  0.03739478 0.00434663 0.92238168]]\n",
      "classification:\n",
      "               precision    recall  f1-score   support\n",
      "\n",
      "         0.0       0.61      0.63      0.62     14494\n",
      "         1.0       0.82      0.73      0.77     14494\n",
      "         2.0       0.75      0.76      0.75     14494\n",
      "         3.0       0.82      0.89      0.86     14494\n",
      "         4.0       0.93      0.92      0.93     14494\n",
      "\n",
      "    accuracy                           0.79     72470\n",
      "   macro avg       0.79      0.79      0.79     72470\n",
      "weighted avg       0.79      0.79      0.79     72470\n",
      "\n"
     ]
    }
   ],
   "source": [
    "print(f\"accuracy is: {model_accu}\")\n",
    "print(f\"Precision: {model_precision}\")\n",
    "print(f\"Recall: {model_recall}\")\n",
    "print(f\"F1_Score: {model_F1}\")\n",
    "print(f\"confusion_matrix:\\n {model_con_mat}\")\n",
    "print(f\"classification:\\n {model_cl_report}\")"
   ]
  },
  {
   "cell_type": "code",
   "execution_count": 68,
   "metadata": {},
   "outputs": [
    {
     "data": {
      "image/png": "[encoded data removed]",
      "text/plain": [
       "<Figure size 1000x800 with 2 Axes>"
      ]
     },
     "metadata": {},
     "output_type": "display_data"
    }
   ],
   "source": [
    "#normalized confusion matrix plot\n",
    "plt.figure(figsize=(10,8))\n",
    "sns.heatmap(model_con_mat, annot=True, linewidths=0.01, fmt = '0.3f')\n",
    "plt.title(\"Confusion Matrix\")\n",
    "plt.ylabel('Actual Label')\n",
    "plt.xlabel('Predicted Label')\n",
    "plt.show()"
   ]
  },
  {
   "cell_type": "code",
   "execution_count": 63,
   "metadata": {},
   "outputs": [],
   "source": [
    "X1_undersample, y1_undersample = Samplingdata(X1, y1).tomek()"
   ]
  },
  {
   "cell_type": "code",
   "execution_count": 64,
   "metadata": {},
   "outputs": [],
   "source": [
    "X_train_tomek, X_test_tomek, y_train_tomek, y_test_tomek = train_test_split(X1_undersample, y1_undersample, test_size=0.2, random_state=42, stratify=y1_undersample)"
   ]
  },
  {
   "cell_type": "code",
   "execution_count": 69,
   "metadata": {},
   "outputs": [],
   "source": [
    "Model2 = Model(model_logistic_reg, X_train_tomek, X_test_tomek, y_train_tomek, y_test_tomek)\n",
    "prediction2 = Model2.model_fit_pred(X_train_tomek, X_test_tomek, y_train_tomek)\n",
    "model_accu_2, model_con_mat_2, model_cl_report_2, model_recall_2, model_precision_2, model_F1_2 = Model2.model_report(prediction2, y_test_tomek)"
   ]
  },
  {
   "cell_type": "code",
   "execution_count": 74,
   "metadata": {},
   "outputs": [
    {
     "name": "stdout",
     "output_type": "stream",
     "text": [
      "accuracy is: 0.9075987144168962\n",
      "Precision: 0.8940525664611457\n",
      "Recall: 0.9075987144168962\n",
      "F1_Score: 0.8898084291274362\n",
      "confusion_matrix:\n",
      " [[0.99 0.   0.01 0.   0.  ]\n",
      " [0.74 0.19 0.06 0.   0.  ]\n",
      " [0.67 0.01 0.3  0.   0.02]\n",
      " [0.88 0.   0.05 0.07 0.  ]\n",
      " [0.11 0.   0.01 0.   0.88]]\n",
      "classification:\n",
      "               precision    recall  f1-score   support\n",
      "\n",
      "         0.0       0.91      0.99      0.95     14455\n",
      "         1.0       0.72      0.19      0.31       421\n",
      "         2.0       0.63      0.30      0.41      1139\n",
      "         3.0       0.82      0.07      0.13       128\n",
      "         4.0       0.96      0.88      0.92      1281\n",
      "\n",
      "    accuracy                           0.91     17424\n",
      "   macro avg       0.81      0.49      0.54     17424\n",
      "weighted avg       0.89      0.91      0.89     17424\n",
      "\n"
     ]
    }
   ],
   "source": [
    "print(f\"accuracy is: {model_accu_2}\")\n",
    "print(f\"Precision: {model_precision_2}\")\n",
    "print(f\"Recall: {model_recall_2}\")\n",
    "print(f\"F1_Score: {model_F1_2}\")\n",
    "print(f\"confusion_matrix:\\n {np.around(model_con_mat_2, decimals=2)}\")\n",
    "print(f\"classification:\\n {model_cl_report_2}\")"
   ]
  },
  {
   "cell_type": "code",
   "execution_count": 71,
   "metadata": {},
   "outputs": [
    {
     "data": {
      "image/png": "[encoded data removed]",
      "text/plain": [
       "<Figure size 1000x800 with 2 Axes>"
      ]
     },
     "metadata": {},
     "output_type": "display_data"
    }
   ],
   "source": [
    "#normalized confusion matrix plot\n",
    "plt.figure(figsize=(10,8))\n",
    "sns.heatmap(model_con_mat_2, annot=True, linewidths=0.01, fmt = '0.3f')\n",
    "plt.title(\"Confusion Matrix\")\n",
    "plt.ylabel('Actual Label')\n",
    "plt.xlabel('Predicted Label')\n",
    "plt.show()"
   ]
  },
  {
   "cell_type": "code",
   "execution_count": 75,
   "metadata": {},
   "outputs": [],
   "source": [
    "X1_Smotek, y1_Smotek = Samplingdata(X1, y1).smote_tomek()"
   ]
  },
  {
   "cell_type": "code",
   "execution_count": 76,
   "metadata": {},
   "outputs": [],
   "source": [
    "X_train_smotek, X_test_smotek, y_train_smotek, y_test_smotek = train_test_split(X1_Smotek, y1_Smotek, test_size=0.2, random_state=42, stratify=y1_Smotek)"
   ]
  },
  {
   "cell_type": "code",
   "execution_count": 77,
   "metadata": {},
   "outputs": [],
   "source": [
    "Model3 = Model(model_logistic_reg, X_train_smotek, X_test_smotek, y_train_smotek, y_test_smotek)\n",
    "prediction3 = Model3.model_fit_pred(X_train_smotek, X_test_smotek, y_train_smotek)\n",
    "model_accu_3, model_con_mat_3, model_cl_report_3, model_recall_3, model_precision_3, model_F1_3 = Model3.model_report(prediction3, y_test_smotek)"
   ]
  },
  {
   "cell_type": "code",
   "execution_count": 78,
   "metadata": {},
   "outputs": [
    {
     "name": "stdout",
     "output_type": "stream",
     "text": [
      "accuracy is: 0.7847799089278322\n",
      "Precision: 0.7866208399798706\n",
      "Recall: 0.7847799089278322\n",
      "F1_Score: 0.7847752467011149\n",
      "confusion_matrix:\n",
      " [[0.64 0.12 0.13 0.08 0.03]\n",
      " [0.21 0.72 0.04 0.02 0.01]\n",
      " [0.1  0.02 0.75 0.09 0.03]\n",
      " [0.06 0.   0.05 0.89 0.  ]\n",
      " [0.03 0.   0.04 0.01 0.93]]\n",
      "classification:\n",
      "               precision    recall  f1-score   support\n",
      "\n",
      "         0.0       0.61      0.64      0.62     14494\n",
      "         1.0       0.82      0.72      0.77     14494\n",
      "         2.0       0.75      0.75      0.75     14494\n",
      "         3.0       0.82      0.89      0.85     14494\n",
      "         4.0       0.93      0.93      0.93     14494\n",
      "\n",
      "    accuracy                           0.78     72470\n",
      "   macro avg       0.79      0.78      0.78     72470\n",
      "weighted avg       0.79      0.78      0.78     72470\n",
      "\n"
     ]
    }
   ],
   "source": [
    "print(f\"accuracy is: {model_accu_3}\")\n",
    "print(f\"Precision: {model_precision_3}\")\n",
    "print(f\"Recall: {model_recall_3}\")\n",
    "print(f\"F1_Score: {model_F1_3}\")\n",
    "print(f\"confusion_matrix:\\n {np.around(model_con_mat_3, decimals=2)}\")\n",
    "print(f\"classification:\\n {model_cl_report_3}\")"
   ]
  },
  {
   "cell_type": "code",
   "execution_count": 79,
   "metadata": {},
   "outputs": [
    {
     "data": {
      "image/png": "[encoded data removed]",
      "text/plain": [
       "<Figure size 1000x800 with 2 Axes>"
      ]
     },
     "metadata": {},
     "output_type": "display_data"
    }
   ],
   "source": [
    "#normalized confusion matrix plot\n",
    "plt.figure(figsize=(10,8))\n",
    "sns.heatmap(model_con_mat_3, annot=True, linewidths=0.01, fmt = '0.3f')\n",
    "plt.title(\"Confusion Matrix\")\n",
    "plt.ylabel('Actual Label')\n",
    "plt.xlabel('Predicted Label')\n",
    "plt.show()"
   ]
  },
  {
   "cell_type": "markdown",
   "metadata": {},
   "source": [
    "Decision Tree"
   ]
  },
  {
   "cell_type": "code",
   "execution_count": 87,
   "metadata": {},
   "outputs": [],
   "source": [
    "#model_decision_tree = DecisionTreeClassifier(criterion='gini', splitter='best', max_depth=10, random_state=0, min_samples_leaf=5, min_samples_split=2)\n",
    "model_decision_tree = DecisionTreeClassifier(random_state=0)"
   ]
  },
  {
   "cell_type": "code",
   "execution_count": 88,
   "metadata": {},
   "outputs": [],
   "source": [
    "Model4 = Model(model_decision_tree, X_train_smote, X_test_smote, y_train_smote, y_test_smote)\n",
    "prediction4 = Model4.model_fit_pred(X_train_smote, X_test_smote, y_train_smote)\n",
    "model_accu_4, model_con_mat_4, model_cl_report_4, model_recall_4, model_precision_4, model_F1_4 = Model4.model_report(prediction4, y_test_smote)"
   ]
  },
  {
   "cell_type": "code",
   "execution_count": 82,
   "metadata": {},
   "outputs": [
    {
     "name": "stdout",
     "output_type": "stream",
     "text": [
      "accuracy is: 0.9814543949220367\n",
      "Precision: 0.9814203142595258\n",
      "Recall: 0.9814543949220367\n",
      "F1_Score: 0.9814031175821576\n",
      "confusion_matrix:\n",
      " [[0.949 0.024 0.016 0.006 0.005]\n",
      " [0.013 0.986 0.001 0.    0.001]\n",
      " [0.009 0.002 0.985 0.003 0.001]\n",
      " [0.003 0.    0.002 0.995 0.   ]\n",
      " [0.004 0.001 0.001 0.    0.993]]\n",
      "classification:\n",
      "               precision    recall  f1-score   support\n",
      "\n",
      "         0.0       0.97      0.95      0.96     14494\n",
      "         1.0       0.97      0.99      0.98     14494\n",
      "         2.0       0.98      0.99      0.98     14494\n",
      "         3.0       0.99      0.99      0.99     14494\n",
      "         4.0       0.99      0.99      0.99     14494\n",
      "\n",
      "    accuracy                           0.98     72470\n",
      "   macro avg       0.98      0.98      0.98     72470\n",
      "weighted avg       0.98      0.98      0.98     72470\n",
      "\n"
     ]
    }
   ],
   "source": [
    "print(f\"accuracy is: {model_accu_4}\")\n",
    "print(f\"Precision: {model_precision_4}\")\n",
    "print(f\"Recall: {model_recall_4}\")\n",
    "print(f\"F1_Score: {model_F1_4}\")\n",
    "print(f\"confusion_matrix:\\n {np.around(model_con_mat_4, decimals=3)}\")\n",
    "print(f\"classification:\\n {model_cl_report_4}\")"
   ]
  },
  {
   "cell_type": "code",
   "execution_count": 84,
   "metadata": {},
   "outputs": [
    {
     "data": {
      "image/png": "[encoded data removed]",
      "text/plain": [
       "<Figure size 1000x800 with 2 Axes>"
      ]
     },
     "metadata": {},
     "output_type": "display_data"
    }
   ],
   "source": [
    "#normalized confusion matrix plot\n",
    "plt.figure(figsize=(10,8))\n",
    "sns.heatmap(model_con_mat_4, annot=True, linewidths=0.01, fmt = '0.3f')\n",
    "plt.title(\"Confusion Matrix\")\n",
    "plt.ylabel('Actual Label')\n",
    "plt.xlabel('Predicted Label')\n",
    "plt.show()"
   ]
  },
  {
   "cell_type": "markdown",
   "metadata": {},
   "source": [
    "LinearSVC"
   ]
  },
  {
   "cell_type": "code",
   "execution_count": 99,
   "metadata": {},
   "outputs": [],
   "source": [
    "model_linear_svc = LinearSVC(random_state=42, dual=True, max_iter=3000, )"
   ]
  },
  {
   "cell_type": "code",
   "execution_count": 100,
   "metadata": {},
   "outputs": [
    {
     "name": "stderr",
     "output_type": "stream",
     "text": [
      "m:\\SOL\\ML_intern_task\\VENV_for_ECG\\.venv\\Lib\\site-packages\\sklearn\\svm\\_base.py:1237: ConvergenceWarning: Liblinear failed to converge, increase the number of iterations.\n",
      "  warnings.warn(\n"
     ]
    }
   ],
   "source": [
    "Model5 = Model(model_linear_svc, X_train_smotek, X_test_smotek, y_train_smotek, y_test_smotek)\n",
    "prediction5 = Model5.model_fit_pred(X_train_smotek, X_test_smotek, y_train_smotek)\n",
    "model_accu_5, model_con_mat_5, model_cl_report_5, model_recall_5, model_precision_5, model_F1_5 = Model5.model_report(prediction5, y_test_smotek)"
   ]
  },
  {
   "cell_type": "code",
   "execution_count": 101,
   "metadata": {},
   "outputs": [
    {
     "name": "stdout",
     "output_type": "stream",
     "text": [
      "accuracy is: 0.7816061818683593\n",
      "Precision: 0.7822010660681562\n",
      "Recall: 0.7816061818683593\n",
      "F1_Score: 0.7810699429180736\n",
      "confusion_matrix:\n",
      " [[0.617 0.129 0.127 0.095 0.032]\n",
      " [0.215 0.723 0.036 0.015 0.01 ]\n",
      " [0.106 0.031 0.752 0.082 0.029]\n",
      " [0.048 0.005 0.051 0.895 0.001]\n",
      " [0.029 0.005 0.037 0.006 0.922]]\n",
      "classification:\n",
      "               precision    recall  f1-score   support\n",
      "\n",
      "         0.0       0.61      0.62      0.61     14494\n",
      "         1.0       0.81      0.72      0.76     14494\n",
      "         2.0       0.75      0.75      0.75     14494\n",
      "         3.0       0.82      0.89      0.85     14494\n",
      "         4.0       0.93      0.92      0.92     14494\n",
      "\n",
      "    accuracy                           0.78     72470\n",
      "   macro avg       0.78      0.78      0.78     72470\n",
      "weighted avg       0.78      0.78      0.78     72470\n",
      "\n"
     ]
    }
   ],
   "source": [
    "print(f\"accuracy is: {model_accu_5}\")\n",
    "print(f\"Precision: {model_precision_5}\")\n",
    "print(f\"Recall: {model_recall_5}\")\n",
    "print(f\"F1_Score: {model_F1_5}\")\n",
    "print(f\"confusion_matrix:\\n {np.around(model_con_mat_5, decimals=3)}\")\n",
    "print(f\"classification:\\n {model_cl_report_5}\")"
   ]
  },
  {
   "cell_type": "code",
   "execution_count": 102,
   "metadata": {},
   "outputs": [
    {
     "data": {
      "image/png": "[encoded data removed]",
      "text/plain": [
       "<Figure size 1000x800 with 2 Axes>"
      ]
     },
     "metadata": {},
     "output_type": "display_data"
    }
   ],
   "source": [
    "#normalized confusion matrix plot\n",
    "plt.figure(figsize=(10,8))\n",
    "sns.heatmap(model_con_mat_5, annot=True, linewidths=0.01, fmt = '0.3f')\n",
    "plt.title(\"Confusion Matrix\")\n",
    "plt.ylabel('Actual Label')\n",
    "plt.xlabel('Predicted Label')\n",
    "plt.show()"
   ]
  },
  {
   "cell_type": "markdown",
   "metadata": {},
   "source": [
    "SVM"
   ]
  },
  {
   "cell_type": "code",
   "execution_count": 105,
   "metadata": {},
   "outputs": [],
   "source": [
    "model_SVM = SVC(random_state=42, kernel='rbf', C=1.0, gamma='auto')"
   ]
  },
  {
   "cell_type": "code",
   "execution_count": 106,
   "metadata": {},
   "outputs": [],
   "source": [
    "Model6 = Model(model_SVM, X_train_smotek, X_test_smotek, y_train_smotek, y_test_smotek)\n",
    "prediction6 = Model6.model_fit_pred(X_train_smotek, X_test_smotek, y_train_smotek)\n",
    "model_accu_6, model_con_mat_6, model_cl_report_6, model_recall_6, model_precision_6, model_F1_6 = Model6.model_report(prediction6, y_test_smotek)"
   ]
  },
  {
   "cell_type": "code",
   "execution_count": null,
   "metadata": {},
   "outputs": [],
   "source": [
    "print(f\"accuracy is: {model_accu_6}\")\n",
    "print(f\"Precision: {model_precision_6}\")\n",
    "print(f\"Recall: {model_recall_6}\")\n",
    "print(f\"F1_Score: {model_F1_6}\")\n",
    "print(f\"confusion_matrix:\\n {np.around(model_con_mat_6, decimals=3)}\")\n",
    "print(f\"classification:\\n {model_cl_report_6}\")"
   ]
  },
  {
   "cell_type": "code",
   "execution_count": null,
   "metadata": {},
   "outputs": [],
   "source": [
    "#normalized confusion matrix plot\n",
    "plt.figure(figsize=(10,8))\n",
    "sns.heatmap(model_con_mat_6, annot=True, linewidths=0.01, fmt = '0.3f')\n",
    "plt.title(\"Confusion Matrix\")\n",
    "plt.ylabel('Actual Label')\n",
    "plt.xlabel('Predicted Label')\n",
    "plt.show()"
   ]
  },
  {
   "cell_type": "markdown",
   "metadata": {},
   "source": [
    "k-nearest"
   ]
  },
  {
   "cell_type": "code",
   "execution_count": null,
   "metadata": {},
   "outputs": [],
   "source": [
    "model_k_nearest = KNeighborsClassifier(n_neighbors=5, weights='uniform', algorithm='auto', leaf_size=30, p=2, metric='minkowski')"
   ]
  },
  {
   "cell_type": "code",
   "execution_count": null,
   "metadata": {},
   "outputs": [],
   "source": []
  },
  {
   "cell_type": "markdown",
   "metadata": {},
   "source": [
    "PCA"
   ]
  },
  {
   "cell_type": "code",
   "execution_count": null,
   "metadata": {},
   "outputs": [],
   "source": [
    "'''\n",
    "X_train_pca = PCA(n_components=2).fit_transform(X_train)\n",
    "X_test_pca = PCA(n_components=2).fit_transform(X_test)\n",
    "'''"
   ]
  },
  {
   "cell_type": "markdown",
   "metadata": {},
   "source": [
    "## Hyperparameter Tuning"
   ]
  },
  {
   "cell_type": "markdown",
   "metadata": {},
   "source": [
    "### RandomSearchCV"
   ]
  },
  {
   "cell_type": "code",
   "execution_count": 94,
   "metadata": {},
   "outputs": [],
   "source": [
    "from sklearn.model_selection import RandomizedSearchCV"
   ]
  },
  {
   "cell_type": "code",
   "execution_count": 81,
   "metadata": {},
   "outputs": [
    {
     "name": "stdout",
     "output_type": "stream",
     "text": [
      "Fitting 5 folds for each of 60 candidates, totalling 300 fits\n",
      "Best Parameters:  {'solver': 'saga', 'penalty': 'l2', 'C': 78.47599703514607}\n",
      "Accuracy: 0.915881445948261\n",
      "Confusion Matrix:\n",
      "[[14309    31   202     7    28]\n",
      " [  209   187    21     0     1]\n",
      " [  701     4   385    14    16]\n",
      " [  102     0    11    39     0]\n",
      " [  112     1    13     0  1118]]\n",
      "Classification Report:\n",
      "              precision    recall  f1-score   support\n",
      "\n",
      "         0.0       0.93      0.98      0.95     14577\n",
      "         1.0       0.84      0.45      0.58       418\n",
      "         2.0       0.61      0.34      0.44      1120\n",
      "         3.0       0.65      0.26      0.37       152\n",
      "         4.0       0.96      0.90      0.93      1244\n",
      "\n",
      "    accuracy                           0.92     17511\n",
      "   macro avg       0.80      0.59      0.65     17511\n",
      "weighted avg       0.90      0.92      0.91     17511\n",
      "\n"
     ]
    },
    {
     "name": "stderr",
     "output_type": "stream",
     "text": [
      "m:\\SOL\\ML_intern_task\\VENV_for_ECG\\.venv\\Lib\\site-packages\\sklearn\\linear_model\\_sag.py:350: ConvergenceWarning: The max_iter was reached which means the coef_ did not converge\n",
      "  warnings.warn(\n"
     ]
    }
   ],
   "source": [
    "\n",
    "# Defining the parameter grid for RandomizedSearchCV\n",
    "param_grid = {\n",
    "    'solver': ['lbfgs', 'saga', 'newton-cg'],  # Add other solvers if appropriate for your dataset\n",
    "    'C': np.logspace(-4, 4, 20),  # Regularization strengths\n",
    "    'penalty': ['l2'],  # Adjust based on solver compatibility\n",
    "}\n",
    "\n",
    "# Setting up RandomizedSearchCV\n",
    "random_search = RandomizedSearchCV(model, param_distributions=param_grid, n_iter=60, cv=5, \n",
    "                                   verbose=2, random_state=42, n_jobs=-1)\n",
    "\n",
    "# Fitting the model\n",
    "random_search.fit(X_train, y_train)\n",
    "\n",
    "# Best parameters found by RandomizedSearchCV\n",
    "print(\"Best Parameters: \", random_search.best_params_)\n",
    "\n",
    "# Predicting with the best estimator\n",
    "y_pred = random_search.predict(X_test)\n",
    "\n",
    "# Calculating metrics\n",
    "accuracy = accuracy_score(y_test, y_pred)\n",
    "confusion_mat = confusion_matrix(y_test, y_pred)\n",
    "class_report = classification_report(y_test, y_pred)\n",
    "\n",
    "# Printing the results\n",
    "print(f\"Accuracy: {accuracy}\")\n",
    "print(f\"Confusion Matrix:\\n{confusion_mat}\")\n",
    "print(f'Classification Report:\\n{class_report}')\n"
   ]
  },
  {
   "cell_type": "markdown",
   "metadata": {},
   "source": [
    "### Grid Search CV"
   ]
  },
  {
   "cell_type": "code",
   "execution_count": 95,
   "metadata": {},
   "outputs": [],
   "source": [
    "from sklearn.model_selection import GridSearchCV"
   ]
  },
  {
   "cell_type": "code",
   "execution_count": 96,
   "metadata": {},
   "outputs": [
    {
     "name": "stdout",
     "output_type": "stream",
     "text": [
      "Fitting 5 folds for each of 60 candidates, totalling 300 fits\n",
      "Best Parameters:  {'C': 78.47599703514607, 'penalty': 'l2', 'solver': 'newton-cg'}\n",
      "Accuracy: 0.9159956598709382\n",
      "Confusion Matrix:\n",
      "[[14304    31   206     7    29]\n",
      " [  208   187    22     0     1]\n",
      " [  696     5   388    15    16]\n",
      " [   95     0    11    46     0]\n",
      " [  113     3    13     0  1115]]\n",
      "Classification Report:\n",
      "              precision    recall  f1-score   support\n",
      "\n",
      "         0.0       0.93      0.98      0.95     14577\n",
      "         1.0       0.83      0.45      0.58       418\n",
      "         2.0       0.61      0.35      0.44      1120\n",
      "         3.0       0.68      0.30      0.42       152\n",
      "         4.0       0.96      0.90      0.93      1244\n",
      "\n",
      "    accuracy                           0.92     17511\n",
      "   macro avg       0.80      0.59      0.66     17511\n",
      "weighted avg       0.91      0.92      0.91     17511\n",
      "\n"
     ]
    }
   ],
   "source": [
    "# Defining the parameter grid for GridSearchCV\n",
    "from turtle import mode\n",
    "\n",
    "\n",
    "param_grid = {\n",
    "    'solver': ['lbfgs', 'saga', 'newton-cg'],  # Consider solver compatibility with penalty\n",
    "    'C': np.logspace(-4, 4, 20),  # Regularization strength\n",
    "    'penalty': ['l2'],  # L2 is used by the solvers mentioned\n",
    "}\n",
    "\n",
    "# Setting up GridSearchCV\n",
    "grid_search = GridSearchCV(model, param_grid=param_grid, cv=5, verbose=2, n_jobs=-1)\n",
    "\n",
    "# Fitting GridSearchCV to the training data\n",
    "grid_search.fit(X_train, y_train)\n",
    "\n",
    "# Best parameters found by GridSearchCV\n",
    "print(\"Best Parameters: \", grid_search.best_params_)\n",
    "\n",
    "# Using the best estimator found to make predictions\n",
    "y_pred = grid_search.predict(X_test)\n",
    "\n",
    "# Calculating metrics\n",
    "accuracy = accuracy_score(y_test, y_pred)\n",
    "confusion_mat = confusion_matrix(y_test, y_pred)\n",
    "class_report = classification_report(y_test, y_pred)\n",
    "\n",
    "# Printing the results\n",
    "print(f\"Accuracy: {accuracy}\")\n",
    "print(f\"Confusion Matrix:\\n{confusion_mat}\")\n",
    "print(f'Classification Report:\\n{class_report}')"
   ]
  },
  {
   "cell_type": "code",
   "execution_count": 40,
   "metadata": {},
   "outputs": [],
   "source": [
    "from sklearn.linear_model import SGDClassifier"
   ]
  },
  {
   "cell_type": "code",
   "execution_count": 97,
   "metadata": {},
   "outputs": [],
   "source": [
    "from sklearn import preprocessing"
   ]
  },
  {
   "cell_type": "code",
   "execution_count": null,
   "metadata": {},
   "outputs": [],
   "source": []
  },
  {
   "cell_type": "code",
   "execution_count": null,
   "metadata": {},
   "outputs": [],
   "source": [
    "model_SGD = SGDClassifier()"
   ]
  }
 ],
 "metadata": {
  "kernelspec": {
   "display_name": "Python 3",
   "language": "python",
   "name": "python3"
  },
  "language_info": {
   "codemirror_mode": {
    "name": "ipython",
    "version": 3
   },
   "file_extension": ".py",
   "mimetype": "text/x-python",
   "name": "python",
   "nbconvert_exporter": "python",
   "pygments_lexer": "ipython3",
   "version": "3.11.4"
  }
 },
 "nbformat": 4,
 "nbformat_minor": 2
}
